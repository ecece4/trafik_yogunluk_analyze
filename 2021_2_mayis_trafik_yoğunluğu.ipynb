{
  "cells": [
    {
      "cell_type": "markdown",
      "metadata": {
        "id": "view-in-github",
        "colab_type": "text"
      },
      "source": [
        "<a href=\"https://colab.research.google.com/github/ecece4/trafik_yogunluk_analyze/blob/main/2021_2_mayis_trafik_yo%C4%9Funlu%C4%9Fu.ipynb\" target=\"_parent\"><img src=\"https://colab.research.google.com/assets/colab-badge.svg\" alt=\"Open In Colab\"/></a>"
      ]
    },
    {
      "cell_type": "code",
      "execution_count": null,
      "metadata": {
        "colab": {
          "base_uri": "https://localhost:8080/"
        },
        "id": "86SqkL6Ay5vk",
        "outputId": "572aace7-ae65-44e3-cb0c-87c68d87cf8f"
      },
      "outputs": [
        {
          "output_type": "stream",
          "name": "stdout",
          "text": [
            "Drive already mounted at /content/drive; to attempt to forcibly remount, call drive.mount(\"/content/drive\", force_remount=True).\n"
          ]
        }
      ],
      "source": [
        "from google.colab import drive\n",
        "drive.mount('/content/drive')"
      ]
    },
    {
      "cell_type": "code",
      "execution_count": null,
      "metadata": {
        "id": "qP2lEuKzzgoD"
      },
      "outputs": [],
      "source": [
        "import pandas as pd\n",
        "import numpy as np\n",
        "from matplotlib import pyplot as plt\n",
        "import seaborn as sns\n",
        "from geopy.geocoders import Nominatim"
      ]
    },
    {
      "cell_type": "code",
      "execution_count": null,
      "metadata": {
        "id": "wL7XM1vIzkJh"
      },
      "outputs": [],
      "source": [
        "df = pd.read_csv(\"/content/drive/MyDrive/2021Mayis/2021Mayis.csv\")"
      ]
    },
    {
      "cell_type": "code",
      "execution_count": null,
      "metadata": {
        "colab": {
          "base_uri": "https://localhost:8080/"
        },
        "id": "Ro1r1PR_6yNQ",
        "outputId": "92e60810-6c47-4f44-ed3c-39413cdacceb"
      },
      "outputs": [
        {
          "output_type": "stream",
          "name": "stdout",
          "text": [
            "<class 'pandas.core.frame.DataFrame'>\n",
            "RangeIndex: 121215 entries, 0 to 121214\n",
            "Data columns (total 8 columns):\n",
            " #   Column              Non-Null Count   Dtype  \n",
            "---  ------              --------------   -----  \n",
            " 0   DATE_TIME           121215 non-null  object \n",
            " 1   LONGITUDE           121215 non-null  float64\n",
            " 2   LATITUDE            121215 non-null  float64\n",
            " 3   GEOHASH             121215 non-null  object \n",
            " 4   MINIMUM_SPEED       121215 non-null  int64  \n",
            " 5   MAXIMUM_SPEED       121215 non-null  int64  \n",
            " 6   AVERAGE_SPEED       121215 non-null  int64  \n",
            " 7   NUMBER_OF_VEHICLES  121215 non-null  int64  \n",
            "dtypes: float64(2), int64(4), object(2)\n",
            "memory usage: 7.4+ MB\n"
          ]
        }
      ],
      "source": [
        "df.info()"
      ]
    },
    {
      "cell_type": "code",
      "source": [
        "df[\"DATE_TIME\"] = pd.to_datetime(df[\"DATE_TIME\"])\n",
        "df[\"Saat\"]= df[\"DATE_TIME\"].dt.strftime('%H')\n",
        "df[\"Gün\"]= df[\"DATE_TIME\"].dt.strftime('%d')"
      ],
      "metadata": {
        "id": "MAj4R8b7F4Sk"
      },
      "execution_count": null,
      "outputs": []
    },
    {
      "cell_type": "code",
      "source": [
        "df = df.drop(\"DATE_TIME\",axis=1)"
      ],
      "metadata": {
        "id": "ApG5uAblqt9q"
      },
      "execution_count": null,
      "outputs": []
    },
    {
      "cell_type": "code",
      "source": [
        "df=df.drop(\"GEOHASH\",axis=1)"
      ],
      "metadata": {
        "id": "g9c7S5RXxqcz"
      },
      "execution_count": null,
      "outputs": []
    },
    {
      "cell_type": "code",
      "source": [
        "df.shape"
      ],
      "metadata": {
        "colab": {
          "base_uri": "https://localhost:8080/"
        },
        "id": "o7LzxBy6tnDa",
        "outputId": "c4e1d62e-1b0a-4744-e53b-58b53ecb8bae"
      },
      "execution_count": null,
      "outputs": [
        {
          "output_type": "execute_result",
          "data": {
            "text/plain": [
              "(121215, 8)"
            ]
          },
          "metadata": {},
          "execution_count": 8
        }
      ]
    },
    {
      "cell_type": "code",
      "source": [
        "df.dtypes"
      ],
      "metadata": {
        "colab": {
          "base_uri": "https://localhost:8080/"
        },
        "id": "T5FBpjH_wo9s",
        "outputId": "69ba09ac-a89c-4f55-9523-28a72599def0"
      },
      "execution_count": null,
      "outputs": [
        {
          "output_type": "execute_result",
          "data": {
            "text/plain": [
              "LONGITUDE             float64\n",
              "LATITUDE              float64\n",
              "MINIMUM_SPEED           int64\n",
              "MAXIMUM_SPEED           int64\n",
              "AVERAGE_SPEED           int64\n",
              "NUMBER_OF_VEHICLES      int64\n",
              "Saat                   object\n",
              "Gün                    object\n",
              "dtype: object"
            ]
          },
          "metadata": {},
          "execution_count": 9
        }
      ]
    },
    {
      "cell_type": "code",
      "source": [
        "df[\"Gün\"] = df[\"Gün\"].astype(str).astype(int)\n",
        "df[\"Saat\"] = df[\"Saat\"].astype(str).astype(int)\n"
      ],
      "metadata": {
        "id": "YzKyA30zwdIB"
      },
      "execution_count": null,
      "outputs": []
    },
    {
      "cell_type": "code",
      "source": [
        "df.rename(columns={\n",
        "    \"DATE_TIME\": \"Tarih\", \"LONGITUDE\": \"Enlem\", \"LATITUDE\": \"Boylam\", \"MINIMUM_SPEED\": \"Min_Hız\",\n",
        "    \"MAXIMUM_SPEED\": \"Max_Hız\",\"AVERAGE_SPEED\":\"Ort_Hız\",\"NUMBER_OF_VEHICLES\":\"Araç Sayısı\"\n",
        "}, inplace=True)"
      ],
      "metadata": {
        "id": "KAQCEcjaohfe"
      },
      "execution_count": null,
      "outputs": []
    },
    {
      "cell_type": "code",
      "source": [
        "df = df[df.Gün ==2]"
      ],
      "metadata": {
        "id": "q7Zn1t_rycdL"
      },
      "execution_count": null,
      "outputs": []
    },
    {
      "cell_type": "markdown",
      "source": [
        "SADECE 2 MAYIS VERİLERİNİ KULLANARAK DEVAM EDECEĞİZ ANALİZE"
      ],
      "metadata": {
        "id": "dyTXfU0zzr5s"
      }
    },
    {
      "cell_type": "code",
      "source": [
        "df"
      ],
      "metadata": {
        "colab": {
          "base_uri": "https://localhost:8080/",
          "height": 424
        },
        "id": "XvcEOZi3ynay",
        "outputId": "8d5348f0-c14e-463a-9bd3-ac4728748907"
      },
      "execution_count": null,
      "outputs": [
        {
          "output_type": "execute_result",
          "data": {
            "text/html": [
              "\n",
              "  <div id=\"df-c786f2b2-c438-4a22-8134-e87e942354f7\">\n",
              "    <div class=\"colab-df-container\">\n",
              "      <div>\n",
              "<style scoped>\n",
              "    .dataframe tbody tr th:only-of-type {\n",
              "        vertical-align: middle;\n",
              "    }\n",
              "\n",
              "    .dataframe tbody tr th {\n",
              "        vertical-align: top;\n",
              "    }\n",
              "\n",
              "    .dataframe thead th {\n",
              "        text-align: right;\n",
              "    }\n",
              "</style>\n",
              "<table border=\"1\" class=\"dataframe\">\n",
              "  <thead>\n",
              "    <tr style=\"text-align: right;\">\n",
              "      <th></th>\n",
              "      <th>Enlem</th>\n",
              "      <th>Boylam</th>\n",
              "      <th>Min_Hız</th>\n",
              "      <th>Max_Hız</th>\n",
              "      <th>Ort_Hız</th>\n",
              "      <th>Araç Sayısı</th>\n",
              "      <th>Saat</th>\n",
              "      <th>Gün</th>\n",
              "    </tr>\n",
              "  </thead>\n",
              "  <tbody>\n",
              "    <tr>\n",
              "      <th>4</th>\n",
              "      <td>28.778687</td>\n",
              "      <td>41.212463</td>\n",
              "      <td>8</td>\n",
              "      <td>86</td>\n",
              "      <td>39</td>\n",
              "      <td>38</td>\n",
              "      <td>16</td>\n",
              "      <td>2</td>\n",
              "    </tr>\n",
              "    <tr>\n",
              "      <th>6</th>\n",
              "      <td>28.756714</td>\n",
              "      <td>41.058655</td>\n",
              "      <td>9</td>\n",
              "      <td>139</td>\n",
              "      <td>73</td>\n",
              "      <td>142</td>\n",
              "      <td>22</td>\n",
              "      <td>2</td>\n",
              "    </tr>\n",
              "    <tr>\n",
              "      <th>11</th>\n",
              "      <td>29.031372</td>\n",
              "      <td>41.157532</td>\n",
              "      <td>3</td>\n",
              "      <td>95</td>\n",
              "      <td>41</td>\n",
              "      <td>12</td>\n",
              "      <td>22</td>\n",
              "      <td>2</td>\n",
              "    </tr>\n",
              "    <tr>\n",
              "      <th>12</th>\n",
              "      <td>28.998413</td>\n",
              "      <td>41.069641</td>\n",
              "      <td>1</td>\n",
              "      <td>75</td>\n",
              "      <td>23</td>\n",
              "      <td>25</td>\n",
              "      <td>7</td>\n",
              "      <td>2</td>\n",
              "    </tr>\n",
              "    <tr>\n",
              "      <th>23</th>\n",
              "      <td>29.152222</td>\n",
              "      <td>40.943298</td>\n",
              "      <td>10</td>\n",
              "      <td>67</td>\n",
              "      <td>32</td>\n",
              "      <td>28</td>\n",
              "      <td>18</td>\n",
              "      <td>2</td>\n",
              "    </tr>\n",
              "    <tr>\n",
              "      <th>...</th>\n",
              "      <td>...</td>\n",
              "      <td>...</td>\n",
              "      <td>...</td>\n",
              "      <td>...</td>\n",
              "      <td>...</td>\n",
              "      <td>...</td>\n",
              "      <td>...</td>\n",
              "      <td>...</td>\n",
              "    </tr>\n",
              "    <tr>\n",
              "      <th>121200</th>\n",
              "      <td>29.382935</td>\n",
              "      <td>40.794983</td>\n",
              "      <td>20</td>\n",
              "      <td>131</td>\n",
              "      <td>81</td>\n",
              "      <td>80</td>\n",
              "      <td>14</td>\n",
              "      <td>2</td>\n",
              "    </tr>\n",
              "    <tr>\n",
              "      <th>121201</th>\n",
              "      <td>29.042358</td>\n",
              "      <td>40.998230</td>\n",
              "      <td>5</td>\n",
              "      <td>68</td>\n",
              "      <td>34</td>\n",
              "      <td>18</td>\n",
              "      <td>0</td>\n",
              "      <td>2</td>\n",
              "    </tr>\n",
              "    <tr>\n",
              "      <th>121208</th>\n",
              "      <td>28.822632</td>\n",
              "      <td>41.031189</td>\n",
              "      <td>4</td>\n",
              "      <td>72</td>\n",
              "      <td>31</td>\n",
              "      <td>40</td>\n",
              "      <td>17</td>\n",
              "      <td>2</td>\n",
              "    </tr>\n",
              "    <tr>\n",
              "      <th>121210</th>\n",
              "      <td>28.394165</td>\n",
              "      <td>41.069641</td>\n",
              "      <td>55</td>\n",
              "      <td>136</td>\n",
              "      <td>85</td>\n",
              "      <td>50</td>\n",
              "      <td>12</td>\n",
              "      <td>2</td>\n",
              "    </tr>\n",
              "    <tr>\n",
              "      <th>121212</th>\n",
              "      <td>29.317017</td>\n",
              "      <td>40.954285</td>\n",
              "      <td>6</td>\n",
              "      <td>100</td>\n",
              "      <td>34</td>\n",
              "      <td>17</td>\n",
              "      <td>20</td>\n",
              "      <td>2</td>\n",
              "    </tr>\n",
              "  </tbody>\n",
              "</table>\n",
              "<p>37253 rows × 8 columns</p>\n",
              "</div>\n",
              "      <button class=\"colab-df-convert\" onclick=\"convertToInteractive('df-c786f2b2-c438-4a22-8134-e87e942354f7')\"\n",
              "              title=\"Convert this dataframe to an interactive table.\"\n",
              "              style=\"display:none;\">\n",
              "        \n",
              "  <svg xmlns=\"http://www.w3.org/2000/svg\" height=\"24px\"viewBox=\"0 0 24 24\"\n",
              "       width=\"24px\">\n",
              "    <path d=\"M0 0h24v24H0V0z\" fill=\"none\"/>\n",
              "    <path d=\"M18.56 5.44l.94 2.06.94-2.06 2.06-.94-2.06-.94-.94-2.06-.94 2.06-2.06.94zm-11 1L8.5 8.5l.94-2.06 2.06-.94-2.06-.94L8.5 2.5l-.94 2.06-2.06.94zm10 10l.94 2.06.94-2.06 2.06-.94-2.06-.94-.94-2.06-.94 2.06-2.06.94z\"/><path d=\"M17.41 7.96l-1.37-1.37c-.4-.4-.92-.59-1.43-.59-.52 0-1.04.2-1.43.59L10.3 9.45l-7.72 7.72c-.78.78-.78 2.05 0 2.83L4 21.41c.39.39.9.59 1.41.59.51 0 1.02-.2 1.41-.59l7.78-7.78 2.81-2.81c.8-.78.8-2.07 0-2.86zM5.41 20L4 18.59l7.72-7.72 1.47 1.35L5.41 20z\"/>\n",
              "  </svg>\n",
              "      </button>\n",
              "      \n",
              "  <style>\n",
              "    .colab-df-container {\n",
              "      display:flex;\n",
              "      flex-wrap:wrap;\n",
              "      gap: 12px;\n",
              "    }\n",
              "\n",
              "    .colab-df-convert {\n",
              "      background-color: #E8F0FE;\n",
              "      border: none;\n",
              "      border-radius: 50%;\n",
              "      cursor: pointer;\n",
              "      display: none;\n",
              "      fill: #1967D2;\n",
              "      height: 32px;\n",
              "      padding: 0 0 0 0;\n",
              "      width: 32px;\n",
              "    }\n",
              "\n",
              "    .colab-df-convert:hover {\n",
              "      background-color: #E2EBFA;\n",
              "      box-shadow: 0px 1px 2px rgba(60, 64, 67, 0.3), 0px 1px 3px 1px rgba(60, 64, 67, 0.15);\n",
              "      fill: #174EA6;\n",
              "    }\n",
              "\n",
              "    [theme=dark] .colab-df-convert {\n",
              "      background-color: #3B4455;\n",
              "      fill: #D2E3FC;\n",
              "    }\n",
              "\n",
              "    [theme=dark] .colab-df-convert:hover {\n",
              "      background-color: #434B5C;\n",
              "      box-shadow: 0px 1px 3px 1px rgba(0, 0, 0, 0.15);\n",
              "      filter: drop-shadow(0px 1px 2px rgba(0, 0, 0, 0.3));\n",
              "      fill: #FFFFFF;\n",
              "    }\n",
              "  </style>\n",
              "\n",
              "      <script>\n",
              "        const buttonEl =\n",
              "          document.querySelector('#df-c786f2b2-c438-4a22-8134-e87e942354f7 button.colab-df-convert');\n",
              "        buttonEl.style.display =\n",
              "          google.colab.kernel.accessAllowed ? 'block' : 'none';\n",
              "\n",
              "        async function convertToInteractive(key) {\n",
              "          const element = document.querySelector('#df-c786f2b2-c438-4a22-8134-e87e942354f7');\n",
              "          const dataTable =\n",
              "            await google.colab.kernel.invokeFunction('convertToInteractive',\n",
              "                                                     [key], {});\n",
              "          if (!dataTable) return;\n",
              "\n",
              "          const docLinkHtml = 'Like what you see? Visit the ' +\n",
              "            '<a target=\"_blank\" href=https://colab.research.google.com/notebooks/data_table.ipynb>data table notebook</a>'\n",
              "            + ' to learn more about interactive tables.';\n",
              "          element.innerHTML = '';\n",
              "          dataTable['output_type'] = 'display_data';\n",
              "          await google.colab.output.renderOutput(dataTable, element);\n",
              "          const docLink = document.createElement('div');\n",
              "          docLink.innerHTML = docLinkHtml;\n",
              "          element.appendChild(docLink);\n",
              "        }\n",
              "      </script>\n",
              "    </div>\n",
              "  </div>\n",
              "  "
            ],
            "text/plain": [
              "            Enlem     Boylam  Min_Hız  Max_Hız  Ort_Hız  Araç Sayısı  Saat  Gün\n",
              "4       28.778687  41.212463        8       86       39           38    16    2\n",
              "6       28.756714  41.058655        9      139       73          142    22    2\n",
              "11      29.031372  41.157532        3       95       41           12    22    2\n",
              "12      28.998413  41.069641        1       75       23           25     7    2\n",
              "23      29.152222  40.943298       10       67       32           28    18    2\n",
              "...           ...        ...      ...      ...      ...          ...   ...  ...\n",
              "121200  29.382935  40.794983       20      131       81           80    14    2\n",
              "121201  29.042358  40.998230        5       68       34           18     0    2\n",
              "121208  28.822632  41.031189        4       72       31           40    17    2\n",
              "121210  28.394165  41.069641       55      136       85           50    12    2\n",
              "121212  29.317017  40.954285        6      100       34           17    20    2\n",
              "\n",
              "[37253 rows x 8 columns]"
            ]
          },
          "metadata": {},
          "execution_count": 13
        }
      ]
    },
    {
      "cell_type": "code",
      "source": [
        "df.describe()"
      ],
      "metadata": {
        "colab": {
          "base_uri": "https://localhost:8080/",
          "height": 300
        },
        "id": "ZdCsNYmFxJGM",
        "outputId": "99885408-d1cc-46d0-b3fe-3bd960828441"
      },
      "execution_count": null,
      "outputs": [
        {
          "output_type": "execute_result",
          "data": {
            "text/html": [
              "\n",
              "  <div id=\"df-037bfce0-91f2-4d01-8f13-38e996712995\">\n",
              "    <div class=\"colab-df-container\">\n",
              "      <div>\n",
              "<style scoped>\n",
              "    .dataframe tbody tr th:only-of-type {\n",
              "        vertical-align: middle;\n",
              "    }\n",
              "\n",
              "    .dataframe tbody tr th {\n",
              "        vertical-align: top;\n",
              "    }\n",
              "\n",
              "    .dataframe thead th {\n",
              "        text-align: right;\n",
              "    }\n",
              "</style>\n",
              "<table border=\"1\" class=\"dataframe\">\n",
              "  <thead>\n",
              "    <tr style=\"text-align: right;\">\n",
              "      <th></th>\n",
              "      <th>Enlem</th>\n",
              "      <th>Boylam</th>\n",
              "      <th>Min_Hız</th>\n",
              "      <th>Max_Hız</th>\n",
              "      <th>Ort_Hız</th>\n",
              "      <th>Araç Sayısı</th>\n",
              "      <th>Saat</th>\n",
              "      <th>Gün</th>\n",
              "    </tr>\n",
              "  </thead>\n",
              "  <tbody>\n",
              "    <tr>\n",
              "      <th>count</th>\n",
              "      <td>37253.000000</td>\n",
              "      <td>37253.000000</td>\n",
              "      <td>37253.000000</td>\n",
              "      <td>37253.000000</td>\n",
              "      <td>37253.000000</td>\n",
              "      <td>37253.000000</td>\n",
              "      <td>37253.000000</td>\n",
              "      <td>37253.0</td>\n",
              "    </tr>\n",
              "    <tr>\n",
              "      <th>mean</th>\n",
              "      <td>28.880517</td>\n",
              "      <td>41.056008</td>\n",
              "      <td>23.786997</td>\n",
              "      <td>112.218076</td>\n",
              "      <td>61.606475</td>\n",
              "      <td>46.479961</td>\n",
              "      <td>12.516039</td>\n",
              "      <td>2.0</td>\n",
              "    </tr>\n",
              "    <tr>\n",
              "      <th>std</th>\n",
              "      <td>0.328663</td>\n",
              "      <td>0.097826</td>\n",
              "      <td>22.472966</td>\n",
              "      <td>34.688725</td>\n",
              "      <td>22.367951</td>\n",
              "      <td>40.563284</td>\n",
              "      <td>6.441374</td>\n",
              "      <td>0.0</td>\n",
              "    </tr>\n",
              "    <tr>\n",
              "      <th>min</th>\n",
              "      <td>27.965698</td>\n",
              "      <td>40.767517</td>\n",
              "      <td>1.000000</td>\n",
              "      <td>23.000000</td>\n",
              "      <td>12.000000</td>\n",
              "      <td>11.000000</td>\n",
              "      <td>0.000000</td>\n",
              "      <td>2.0</td>\n",
              "    </tr>\n",
              "    <tr>\n",
              "      <th>25%</th>\n",
              "      <td>28.712769</td>\n",
              "      <td>40.998230</td>\n",
              "      <td>6.000000</td>\n",
              "      <td>84.000000</td>\n",
              "      <td>41.000000</td>\n",
              "      <td>19.000000</td>\n",
              "      <td>8.000000</td>\n",
              "      <td>2.0</td>\n",
              "    </tr>\n",
              "    <tr>\n",
              "      <th>50%</th>\n",
              "      <td>28.899536</td>\n",
              "      <td>41.053162</td>\n",
              "      <td>12.000000</td>\n",
              "      <td>114.000000</td>\n",
              "      <td>65.000000</td>\n",
              "      <td>31.000000</td>\n",
              "      <td>13.000000</td>\n",
              "      <td>2.0</td>\n",
              "    </tr>\n",
              "    <tr>\n",
              "      <th>75%</th>\n",
              "      <td>29.119263</td>\n",
              "      <td>41.108093</td>\n",
              "      <td>43.000000</td>\n",
              "      <td>139.000000</td>\n",
              "      <td>81.000000</td>\n",
              "      <td>59.000000</td>\n",
              "      <td>18.000000</td>\n",
              "      <td>2.0</td>\n",
              "    </tr>\n",
              "    <tr>\n",
              "      <th>max</th>\n",
              "      <td>29.602661</td>\n",
              "      <td>41.344299</td>\n",
              "      <td>100.000000</td>\n",
              "      <td>242.000000</td>\n",
              "      <td>134.000000</td>\n",
              "      <td>350.000000</td>\n",
              "      <td>23.000000</td>\n",
              "      <td>2.0</td>\n",
              "    </tr>\n",
              "  </tbody>\n",
              "</table>\n",
              "</div>\n",
              "      <button class=\"colab-df-convert\" onclick=\"convertToInteractive('df-037bfce0-91f2-4d01-8f13-38e996712995')\"\n",
              "              title=\"Convert this dataframe to an interactive table.\"\n",
              "              style=\"display:none;\">\n",
              "        \n",
              "  <svg xmlns=\"http://www.w3.org/2000/svg\" height=\"24px\"viewBox=\"0 0 24 24\"\n",
              "       width=\"24px\">\n",
              "    <path d=\"M0 0h24v24H0V0z\" fill=\"none\"/>\n",
              "    <path d=\"M18.56 5.44l.94 2.06.94-2.06 2.06-.94-2.06-.94-.94-2.06-.94 2.06-2.06.94zm-11 1L8.5 8.5l.94-2.06 2.06-.94-2.06-.94L8.5 2.5l-.94 2.06-2.06.94zm10 10l.94 2.06.94-2.06 2.06-.94-2.06-.94-.94-2.06-.94 2.06-2.06.94z\"/><path d=\"M17.41 7.96l-1.37-1.37c-.4-.4-.92-.59-1.43-.59-.52 0-1.04.2-1.43.59L10.3 9.45l-7.72 7.72c-.78.78-.78 2.05 0 2.83L4 21.41c.39.39.9.59 1.41.59.51 0 1.02-.2 1.41-.59l7.78-7.78 2.81-2.81c.8-.78.8-2.07 0-2.86zM5.41 20L4 18.59l7.72-7.72 1.47 1.35L5.41 20z\"/>\n",
              "  </svg>\n",
              "      </button>\n",
              "      \n",
              "  <style>\n",
              "    .colab-df-container {\n",
              "      display:flex;\n",
              "      flex-wrap:wrap;\n",
              "      gap: 12px;\n",
              "    }\n",
              "\n",
              "    .colab-df-convert {\n",
              "      background-color: #E8F0FE;\n",
              "      border: none;\n",
              "      border-radius: 50%;\n",
              "      cursor: pointer;\n",
              "      display: none;\n",
              "      fill: #1967D2;\n",
              "      height: 32px;\n",
              "      padding: 0 0 0 0;\n",
              "      width: 32px;\n",
              "    }\n",
              "\n",
              "    .colab-df-convert:hover {\n",
              "      background-color: #E2EBFA;\n",
              "      box-shadow: 0px 1px 2px rgba(60, 64, 67, 0.3), 0px 1px 3px 1px rgba(60, 64, 67, 0.15);\n",
              "      fill: #174EA6;\n",
              "    }\n",
              "\n",
              "    [theme=dark] .colab-df-convert {\n",
              "      background-color: #3B4455;\n",
              "      fill: #D2E3FC;\n",
              "    }\n",
              "\n",
              "    [theme=dark] .colab-df-convert:hover {\n",
              "      background-color: #434B5C;\n",
              "      box-shadow: 0px 1px 3px 1px rgba(0, 0, 0, 0.15);\n",
              "      filter: drop-shadow(0px 1px 2px rgba(0, 0, 0, 0.3));\n",
              "      fill: #FFFFFF;\n",
              "    }\n",
              "  </style>\n",
              "\n",
              "      <script>\n",
              "        const buttonEl =\n",
              "          document.querySelector('#df-037bfce0-91f2-4d01-8f13-38e996712995 button.colab-df-convert');\n",
              "        buttonEl.style.display =\n",
              "          google.colab.kernel.accessAllowed ? 'block' : 'none';\n",
              "\n",
              "        async function convertToInteractive(key) {\n",
              "          const element = document.querySelector('#df-037bfce0-91f2-4d01-8f13-38e996712995');\n",
              "          const dataTable =\n",
              "            await google.colab.kernel.invokeFunction('convertToInteractive',\n",
              "                                                     [key], {});\n",
              "          if (!dataTable) return;\n",
              "\n",
              "          const docLinkHtml = 'Like what you see? Visit the ' +\n",
              "            '<a target=\"_blank\" href=https://colab.research.google.com/notebooks/data_table.ipynb>data table notebook</a>'\n",
              "            + ' to learn more about interactive tables.';\n",
              "          element.innerHTML = '';\n",
              "          dataTable['output_type'] = 'display_data';\n",
              "          await google.colab.output.renderOutput(dataTable, element);\n",
              "          const docLink = document.createElement('div');\n",
              "          docLink.innerHTML = docLinkHtml;\n",
              "          element.appendChild(docLink);\n",
              "        }\n",
              "      </script>\n",
              "    </div>\n",
              "  </div>\n",
              "  "
            ],
            "text/plain": [
              "              Enlem        Boylam  ...          Saat      Gün\n",
              "count  37253.000000  37253.000000  ...  37253.000000  37253.0\n",
              "mean      28.880517     41.056008  ...     12.516039      2.0\n",
              "std        0.328663      0.097826  ...      6.441374      0.0\n",
              "min       27.965698     40.767517  ...      0.000000      2.0\n",
              "25%       28.712769     40.998230  ...      8.000000      2.0\n",
              "50%       28.899536     41.053162  ...     13.000000      2.0\n",
              "75%       29.119263     41.108093  ...     18.000000      2.0\n",
              "max       29.602661     41.344299  ...     23.000000      2.0\n",
              "\n",
              "[8 rows x 8 columns]"
            ]
          },
          "metadata": {},
          "execution_count": 14
        }
      ]
    },
    {
      "cell_type": "code",
      "source": [
        "df.info()"
      ],
      "metadata": {
        "colab": {
          "base_uri": "https://localhost:8080/"
        },
        "id": "fjdK1ae1xN8K",
        "outputId": "92ce86db-3ffd-49bd-b24f-119d486aef58"
      },
      "execution_count": null,
      "outputs": [
        {
          "output_type": "stream",
          "name": "stdout",
          "text": [
            "<class 'pandas.core.frame.DataFrame'>\n",
            "Int64Index: 37253 entries, 4 to 121212\n",
            "Data columns (total 8 columns):\n",
            " #   Column       Non-Null Count  Dtype  \n",
            "---  ------       --------------  -----  \n",
            " 0   Enlem        37253 non-null  float64\n",
            " 1   Boylam       37253 non-null  float64\n",
            " 2   Min_Hız      37253 non-null  int64  \n",
            " 3   Max_Hız      37253 non-null  int64  \n",
            " 4   Ort_Hız      37253 non-null  int64  \n",
            " 5   Araç Sayısı  37253 non-null  int64  \n",
            " 6   Saat         37253 non-null  int64  \n",
            " 7   Gün          37253 non-null  int64  \n",
            "dtypes: float64(2), int64(6)\n",
            "memory usage: 2.6 MB\n"
          ]
        }
      ]
    },
    {
      "cell_type": "code",
      "source": [
        "sns.lmplot(x=\"Max_Hız\", y=\"Araç Sayısı\",hue =\"Saat\", data=df, fit_reg=False)\n",
        "plt.title(\"Maksimum Hıza Göre Araç Yoğunluğu  \")\n",
        "plt.show()"
      ],
      "metadata": {
        "colab": {
          "base_uri": "https://localhost:8080/",
          "height": 409
        },
        "id": "rBFnxNMEmqQS",
        "outputId": "53efda20-fcd4-426f-b93b-0c808f50ed65"
      },
      "execution_count": null,
      "outputs": [
        {
          "output_type": "display_data",
          "data": {
            "image/png": "[encoded data removed]",
            "text/plain": [
              "<Figure size 408.75x360 with 1 Axes>"
            ]
          },
          "metadata": {
            "needs_background": "light"
          }
        }
      ]
    },
    {
      "cell_type": "code",
      "source": [
        "sns.lmplot(x=\"Min_Hız\", y=\"Araç Sayısı\",hue = \"Saat\",data=df, fit_reg=False)\n",
        "plt.title(\"Minimum Hıza Göre Araç Yoğunluğu \")\n",
        "plt.show()"
      ],
      "metadata": {
        "colab": {
          "base_uri": "https://localhost:8080/",
          "height": 409
        },
        "id": "7PZl2OkanO24",
        "outputId": "f11ca9fe-728d-45e5-d4e0-d37d1cb65a25"
      },
      "execution_count": null,
      "outputs": [
        {
          "output_type": "display_data",
          "data": {
            "image/png": "[encoded data removed]",
            "text/plain": [
              "<Figure size 408.75x360 with 1 Axes>"
            ]
          },
          "metadata": {
            "needs_background": "light"
          }
        }
      ]
    },
    {
      "cell_type": "code",
      "source": [
        "sns.lmplot(x=\"Ort_Hız\", y=\"Araç Sayısı\",hue=\"Saat\", data=df, fit_reg=False)\n",
        "plt.title(\"Saatte Maksimum Hıza Göre Araç Yoğunluğu \")\n",
        "plt.show()"
      ],
      "metadata": {
        "colab": {
          "base_uri": "https://localhost:8080/",
          "height": 409
        },
        "id": "lIo14-dZtFGx",
        "outputId": "515ccb76-ab1f-4b61-86dd-ef14bdd5ac29"
      },
      "execution_count": null,
      "outputs": [
        {
          "output_type": "display_data",
          "data": {
            "image/png": "[encoded data removed]",
            "text/plain": [
              "<Figure size 408.75x360 with 1 Axes>"
            ]
          },
          "metadata": {
            "needs_background": "light"
          }
        }
      ]
    },
    {
      "cell_type": "code",
      "source": [
        "sns.lmplot(x=\"Saat\", y=\"Araç Sayısı\", data=df, fit_reg=False)\n",
        "plt.title(\"Saatlik Araç Sayısı\")\n",
        "plt.show()"
      ],
      "metadata": {
        "colab": {
          "base_uri": "https://localhost:8080/",
          "height": 385
        },
        "id": "kFzFZZ5SnzkC",
        "outputId": "9e00ded5-0ec9-47f9-e053-f43ff3b71c85"
      },
      "execution_count": null,
      "outputs": [
        {
          "output_type": "display_data",
          "data": {
            "image/png": "[encoded data removed]",
            "text/plain": [
              "<Figure size 360x360 with 1 Axes>"
            ]
          },
          "metadata": {
            "needs_background": "light"
          }
        }
      ]
    },
    {
      "cell_type": "markdown",
      "source": [
        "**YOĞUNLUK GRAFİKLERİ**"
      ],
      "metadata": {
        "id": "r0OC1XPEKtmJ"
      }
    },
    {
      "cell_type": "code",
      "source": [
        "sns.kdeplot(df['Araç Sayısı'])"
      ],
      "metadata": {
        "colab": {
          "base_uri": "https://localhost:8080/",
          "height": 296
        },
        "id": "nQGMrT9QKk1M",
        "outputId": "7b390d8a-61ec-4d77-ff69-05fe2cdf08d7"
      },
      "execution_count": null,
      "outputs": [
        {
          "output_type": "execute_result",
          "data": {
            "text/plain": [
              "<matplotlib.axes._subplots.AxesSubplot at 0x7fcdc2d2f390>"
            ]
          },
          "metadata": {},
          "execution_count": 20
        },
        {
          "output_type": "display_data",
          "data": {
            "image/png": "[encoded data removed]",
            "text/plain": [
              "<Figure size 432x288 with 1 Axes>"
            ]
          },
          "metadata": {
            "needs_background": "light"
          }
        }
      ]
    },
    {
      "cell_type": "code",
      "source": [
        "sns.kdeplot(df['Max_Hız'])"
      ],
      "metadata": {
        "colab": {
          "base_uri": "https://localhost:8080/",
          "height": 297
        },
        "id": "W36L87DcKype",
        "outputId": "ab0bc5ea-9e55-4a08-9b94-bb7d4e3905ac"
      },
      "execution_count": null,
      "outputs": [
        {
          "output_type": "execute_result",
          "data": {
            "text/plain": [
              "<matplotlib.axes._subplots.AxesSubplot at 0x7fcdc29521d0>"
            ]
          },
          "metadata": {},
          "execution_count": 21
        },
        {
          "output_type": "display_data",
          "data": {
            "image/png": "[encoded data removed]",
            "text/plain": [
              "<Figure size 432x288 with 1 Axes>"
            ]
          },
          "metadata": {
            "needs_background": "light"
          }
        }
      ]
    },
    {
      "cell_type": "code",
      "source": [
        "sns.kdeplot(df['Min_Hız'])"
      ],
      "metadata": {
        "colab": {
          "base_uri": "https://localhost:8080/",
          "height": 297
        },
        "id": "QBX5P-gBK29T",
        "outputId": "1637de76-6dcb-412a-b8fe-d942e038c408"
      },
      "execution_count": null,
      "outputs": [
        {
          "output_type": "execute_result",
          "data": {
            "text/plain": [
              "<matplotlib.axes._subplots.AxesSubplot at 0x7fcdc28d8bd0>"
            ]
          },
          "metadata": {},
          "execution_count": 22
        },
        {
          "output_type": "display_data",
          "data": {
            "image/png": "[encoded data removed]",
            "text/plain": [
              "<Figure size 432x288 with 1 Axes>"
            ]
          },
          "metadata": {
            "needs_background": "light"
          }
        }
      ]
    },
    {
      "cell_type": "code",
      "source": [
        "sns.kdeplot(df['Ort_Hız'])"
      ],
      "metadata": {
        "colab": {
          "base_uri": "https://localhost:8080/",
          "height": 297
        },
        "id": "2E1mjtDzK89o",
        "outputId": "c625d1b9-d7cd-4689-e368-d95577850b7c"
      },
      "execution_count": null,
      "outputs": [
        {
          "output_type": "execute_result",
          "data": {
            "text/plain": [
              "<matplotlib.axes._subplots.AxesSubplot at 0x7fcdc28e8950>"
            ]
          },
          "metadata": {},
          "execution_count": 23
        },
        {
          "output_type": "display_data",
          "data": {
            "image/png": "[encoded data removed]",
            "text/plain": [
              "<Figure size 432x288 with 1 Axes>"
            ]
          },
          "metadata": {
            "needs_background": "light"
          }
        }
      ]
    },
    {
      "cell_type": "markdown",
      "source": [
        "AYKIRI VERİLER GRAFİKLERİ"
      ],
      "metadata": {
        "id": "gEBexYfWxtNr"
      }
    },
    {
      "cell_type": "code",
      "source": [
        " sns.boxplot(x=df[\"Max_Hız\"])"
      ],
      "metadata": {
        "colab": {
          "base_uri": "https://localhost:8080/",
          "height": 297
        },
        "id": "XDP3Cp_BxF5U",
        "outputId": "8c6e218f-87b3-4c94-da48-b1a4831a8957"
      },
      "execution_count": null,
      "outputs": [
        {
          "output_type": "execute_result",
          "data": {
            "text/plain": [
              "<matplotlib.axes._subplots.AxesSubplot at 0x7fcdc2904b50>"
            ]
          },
          "metadata": {},
          "execution_count": 24
        },
        {
          "output_type": "display_data",
          "data": {
            "image/png": "[encoded data removed]",
            "text/plain": [
              "<Figure size 432x288 with 1 Axes>"
            ]
          },
          "metadata": {
            "needs_background": "light"
          }
        }
      ]
    },
    {
      "cell_type": "markdown",
      "source": [
        "ortalama hızın aykırı değer grafiği"
      ],
      "metadata": {
        "id": "0GLfbTpN0It7"
      }
    },
    {
      "cell_type": "code",
      "source": [
        " sns.boxplot(x=df[\"Ort_Hız\"])"
      ],
      "metadata": {
        "colab": {
          "base_uri": "https://localhost:8080/",
          "height": 297
        },
        "id": "WyA6ikf_x4ZS",
        "outputId": "05d249fd-cff0-4957-e749-08c66067dca5"
      },
      "execution_count": null,
      "outputs": [
        {
          "output_type": "execute_result",
          "data": {
            "text/plain": [
              "<matplotlib.axes._subplots.AxesSubplot at 0x7fcdc278a690>"
            ]
          },
          "metadata": {},
          "execution_count": 25
        },
        {
          "output_type": "display_data",
          "data": {
            "image/png": "[encoded data removed]",
            "text/plain": [
              "<Figure size 432x288 with 1 Axes>"
            ]
          },
          "metadata": {
            "needs_background": "light"
          }
        }
      ]
    },
    {
      "cell_type": "code",
      "source": [
        " sns.boxplot(x=df[\"Araç Sayısı\"])"
      ],
      "metadata": {
        "colab": {
          "base_uri": "https://localhost:8080/",
          "height": 296
        },
        "id": "mqvfh4nBg3i3",
        "outputId": "7f9829e9-3f90-483c-8cc1-7d7a66e97b0f"
      },
      "execution_count": null,
      "outputs": [
        {
          "output_type": "execute_result",
          "data": {
            "text/plain": [
              "<matplotlib.axes._subplots.AxesSubplot at 0x7fcdc27493d0>"
            ]
          },
          "metadata": {},
          "execution_count": 26
        },
        {
          "output_type": "display_data",
          "data": {
            "image/png": "[encoded data removed]",
            "text/plain": [
              "<Figure size 432x288 with 1 Axes>"
            ]
          },
          "metadata": {
            "needs_background": "light"
          }
        }
      ]
    },
    {
      "cell_type": "markdown",
      "source": [
        "Görüldüğü üzere araç sayısında çok fazla aykırı değer bulunmakta"
      ],
      "metadata": {
        "id": "jbnI7lA-iDSF"
      }
    },
    {
      "cell_type": "code",
      "source": [
        " sns.boxplot(x=df[\"Min_Hız\"])"
      ],
      "metadata": {
        "colab": {
          "base_uri": "https://localhost:8080/",
          "height": 297
        },
        "id": "yXvAlSd3x4bi",
        "outputId": "45398e16-3b0c-4732-91fe-ada227006e76"
      },
      "execution_count": null,
      "outputs": [
        {
          "output_type": "execute_result",
          "data": {
            "text/plain": [
              "<matplotlib.axes._subplots.AxesSubplot at 0x7fcdc3cfd690>"
            ]
          },
          "metadata": {},
          "execution_count": 27
        },
        {
          "output_type": "display_data",
          "data": {
            "image/png": "[encoded data removed]",
            "text/plain": [
              "<Figure size 432x288 with 1 Axes>"
            ]
          },
          "metadata": {
            "needs_background": "light"
          }
        }
      ]
    },
    {
      "cell_type": "markdown",
      "source": [
        "KUTU GRAFİĞİNDE GÖRÜLEN AYKIRI DEĞERLERİN (MİN SPEED MAX SPEED) ANALİZİ\n"
      ],
      "metadata": {
        "id": "NJz5na7za1X2"
      }
    },
    {
      "cell_type": "code",
      "source": [
        "df_max = df[\"Max_Hız\"]"
      ],
      "metadata": {
        "id": "6L6XQLaMa0iP"
      },
      "execution_count": null,
      "outputs": []
    },
    {
      "cell_type": "code",
      "source": [
        "Q1 = df_max .quantile(0.25)\n",
        "Q3 = df_max .quantile(0.75)\n",
        "IQR = Q3 - Q1\n",
        "\n",
        "lower_bound = Q1 - (1.5) * IQR\n",
        "upper_bound =  Q3 + (1.5) * IQR\n",
        "\n",
        "lower_outliers = (df_max  < (lower_bound))\n",
        "\n",
        "upper_outliers = (df_max  > (upper_bound))\n",
        "\n",
        "outliers = ((df_max < (lower_bound)) |  (df_max  > (upper_bound)) )"
      ],
      "metadata": {
        "id": "oPMyg4I2a0o5"
      },
      "execution_count": null,
      "outputs": []
    },
    {
      "cell_type": "markdown",
      "source": [
        "IQR çeyrekler açıklıktır orta %50'yi bulmak için 0.25 ve 0.75 formülden gelir."
      ],
      "metadata": {
        "id": "ryhpB2Fsw4TE"
      }
    },
    {
      "cell_type": "code",
      "source": [
        "lower_bound"
      ],
      "metadata": {
        "colab": {
          "base_uri": "https://localhost:8080/"
        },
        "id": "3stMlCrIcNhw",
        "outputId": "4ee1a9bf-5a5c-4eb9-e714-e0f5ef397bf0"
      },
      "execution_count": null,
      "outputs": [
        {
          "output_type": "execute_result",
          "data": {
            "text/plain": [
              "1.5"
            ]
          },
          "metadata": {},
          "execution_count": 30
        }
      ]
    },
    {
      "cell_type": "code",
      "source": [
        "upper_bound"
      ],
      "metadata": {
        "colab": {
          "base_uri": "https://localhost:8080/"
        },
        "id": "7f5dgan-cO2P",
        "outputId": "8493d9a3-3566-4f18-d3f9-219785e21fb8"
      },
      "execution_count": null,
      "outputs": [
        {
          "output_type": "execute_result",
          "data": {
            "text/plain": [
              "221.5"
            ]
          },
          "metadata": {},
          "execution_count": 31
        }
      ]
    },
    {
      "cell_type": "code",
      "source": [
        "df_max"
      ],
      "metadata": {
        "colab": {
          "base_uri": "https://localhost:8080/"
        },
        "id": "QIjWMz4ycQov",
        "outputId": "53653015-fbd9-4fc0-e613-9fa2b1b9c2fd"
      },
      "execution_count": null,
      "outputs": [
        {
          "output_type": "execute_result",
          "data": {
            "text/plain": [
              "4          86\n",
              "6         139\n",
              "11         95\n",
              "12         75\n",
              "23         67\n",
              "         ... \n",
              "121200    131\n",
              "121201     68\n",
              "121208     72\n",
              "121210    136\n",
              "121212    100\n",
              "Name: Max_Hız, Length: 37253, dtype: int64"
            ]
          },
          "metadata": {},
          "execution_count": 32
        }
      ]
    },
    {
      "cell_type": "code",
      "source": [
        "df_max[lower_outliers].shape[0] + df_max[upper_outliers].shape[0]"
      ],
      "metadata": {
        "colab": {
          "base_uri": "https://localhost:8080/"
        },
        "id": "pRL6-8eycQrm",
        "outputId": "72fde51d-7b16-42e7-9093-4c5a84291011"
      },
      "execution_count": null,
      "outputs": [
        {
          "output_type": "execute_result",
          "data": {
            "text/plain": [
              "9"
            ]
          },
          "metadata": {},
          "execution_count": 33
        }
      ]
    },
    {
      "cell_type": "markdown",
      "source": [
        "9 adet aykırı veri bulundu"
      ],
      "metadata": {
        "id": "MlfbjFDDcbxP"
      }
    },
    {
      "cell_type": "code",
      "source": [
        "df[outliers]"
      ],
      "metadata": {
        "colab": {
          "base_uri": "https://localhost:8080/",
          "height": 332
        },
        "id": "q4BoHHeZcQuH",
        "outputId": "8b0912cb-0974-4419-92f5-a50a16d31916"
      },
      "execution_count": null,
      "outputs": [
        {
          "output_type": "execute_result",
          "data": {
            "text/html": [
              "\n",
              "  <div id=\"df-24a40ccc-313b-4833-b76a-38b4e87b9b2a\">\n",
              "    <div class=\"colab-df-container\">\n",
              "      <div>\n",
              "<style scoped>\n",
              "    .dataframe tbody tr th:only-of-type {\n",
              "        vertical-align: middle;\n",
              "    }\n",
              "\n",
              "    .dataframe tbody tr th {\n",
              "        vertical-align: top;\n",
              "    }\n",
              "\n",
              "    .dataframe thead th {\n",
              "        text-align: right;\n",
              "    }\n",
              "</style>\n",
              "<table border=\"1\" class=\"dataframe\">\n",
              "  <thead>\n",
              "    <tr style=\"text-align: right;\">\n",
              "      <th></th>\n",
              "      <th>Enlem</th>\n",
              "      <th>Boylam</th>\n",
              "      <th>Min_Hız</th>\n",
              "      <th>Max_Hız</th>\n",
              "      <th>Ort_Hız</th>\n",
              "      <th>Araç Sayısı</th>\n",
              "      <th>Saat</th>\n",
              "      <th>Gün</th>\n",
              "    </tr>\n",
              "  </thead>\n",
              "  <tbody>\n",
              "    <tr>\n",
              "      <th>2598</th>\n",
              "      <td>29.053345</td>\n",
              "      <td>41.091614</td>\n",
              "      <td>12</td>\n",
              "      <td>240</td>\n",
              "      <td>95</td>\n",
              "      <td>123</td>\n",
              "      <td>18</td>\n",
              "      <td>2</td>\n",
              "    </tr>\n",
              "    <tr>\n",
              "      <th>77649</th>\n",
              "      <td>29.119263</td>\n",
              "      <td>41.025696</td>\n",
              "      <td>7</td>\n",
              "      <td>229</td>\n",
              "      <td>81</td>\n",
              "      <td>107</td>\n",
              "      <td>12</td>\n",
              "      <td>2</td>\n",
              "    </tr>\n",
              "    <tr>\n",
              "      <th>81081</th>\n",
              "      <td>29.119263</td>\n",
              "      <td>41.025696</td>\n",
              "      <td>12</td>\n",
              "      <td>242</td>\n",
              "      <td>86</td>\n",
              "      <td>76</td>\n",
              "      <td>20</td>\n",
              "      <td>2</td>\n",
              "    </tr>\n",
              "    <tr>\n",
              "      <th>87320</th>\n",
              "      <td>28.372192</td>\n",
              "      <td>41.168518</td>\n",
              "      <td>77</td>\n",
              "      <td>222</td>\n",
              "      <td>100</td>\n",
              "      <td>13</td>\n",
              "      <td>10</td>\n",
              "      <td>2</td>\n",
              "    </tr>\n",
              "    <tr>\n",
              "      <th>93409</th>\n",
              "      <td>28.449097</td>\n",
              "      <td>41.174011</td>\n",
              "      <td>55</td>\n",
              "      <td>231</td>\n",
              "      <td>93</td>\n",
              "      <td>21</td>\n",
              "      <td>10</td>\n",
              "      <td>2</td>\n",
              "    </tr>\n",
              "    <tr>\n",
              "      <th>104664</th>\n",
              "      <td>28.536987</td>\n",
              "      <td>41.168518</td>\n",
              "      <td>66</td>\n",
              "      <td>226</td>\n",
              "      <td>94</td>\n",
              "      <td>24</td>\n",
              "      <td>10</td>\n",
              "      <td>2</td>\n",
              "    </tr>\n",
              "    <tr>\n",
              "      <th>107606</th>\n",
              "      <td>28.295288</td>\n",
              "      <td>41.141052</td>\n",
              "      <td>59</td>\n",
              "      <td>228</td>\n",
              "      <td>93</td>\n",
              "      <td>18</td>\n",
              "      <td>10</td>\n",
              "      <td>2</td>\n",
              "    </tr>\n",
              "    <tr>\n",
              "      <th>116286</th>\n",
              "      <td>28.273315</td>\n",
              "      <td>41.146545</td>\n",
              "      <td>70</td>\n",
              "      <td>232</td>\n",
              "      <td>95</td>\n",
              "      <td>23</td>\n",
              "      <td>10</td>\n",
              "      <td>2</td>\n",
              "    </tr>\n",
              "    <tr>\n",
              "      <th>120421</th>\n",
              "      <td>28.526001</td>\n",
              "      <td>41.168518</td>\n",
              "      <td>75</td>\n",
              "      <td>227</td>\n",
              "      <td>96</td>\n",
              "      <td>23</td>\n",
              "      <td>10</td>\n",
              "      <td>2</td>\n",
              "    </tr>\n",
              "  </tbody>\n",
              "</table>\n",
              "</div>\n",
              "      <button class=\"colab-df-convert\" onclick=\"convertToInteractive('df-24a40ccc-313b-4833-b76a-38b4e87b9b2a')\"\n",
              "              title=\"Convert this dataframe to an interactive table.\"\n",
              "              style=\"display:none;\">\n",
              "        \n",
              "  <svg xmlns=\"http://www.w3.org/2000/svg\" height=\"24px\"viewBox=\"0 0 24 24\"\n",
              "       width=\"24px\">\n",
              "    <path d=\"M0 0h24v24H0V0z\" fill=\"none\"/>\n",
              "    <path d=\"M18.56 5.44l.94 2.06.94-2.06 2.06-.94-2.06-.94-.94-2.06-.94 2.06-2.06.94zm-11 1L8.5 8.5l.94-2.06 2.06-.94-2.06-.94L8.5 2.5l-.94 2.06-2.06.94zm10 10l.94 2.06.94-2.06 2.06-.94-2.06-.94-.94-2.06-.94 2.06-2.06.94z\"/><path d=\"M17.41 7.96l-1.37-1.37c-.4-.4-.92-.59-1.43-.59-.52 0-1.04.2-1.43.59L10.3 9.45l-7.72 7.72c-.78.78-.78 2.05 0 2.83L4 21.41c.39.39.9.59 1.41.59.51 0 1.02-.2 1.41-.59l7.78-7.78 2.81-2.81c.8-.78.8-2.07 0-2.86zM5.41 20L4 18.59l7.72-7.72 1.47 1.35L5.41 20z\"/>\n",
              "  </svg>\n",
              "      </button>\n",
              "      \n",
              "  <style>\n",
              "    .colab-df-container {\n",
              "      display:flex;\n",
              "      flex-wrap:wrap;\n",
              "      gap: 12px;\n",
              "    }\n",
              "\n",
              "    .colab-df-convert {\n",
              "      background-color: #E8F0FE;\n",
              "      border: none;\n",
              "      border-radius: 50%;\n",
              "      cursor: pointer;\n",
              "      display: none;\n",
              "      fill: #1967D2;\n",
              "      height: 32px;\n",
              "      padding: 0 0 0 0;\n",
              "      width: 32px;\n",
              "    }\n",
              "\n",
              "    .colab-df-convert:hover {\n",
              "      background-color: #E2EBFA;\n",
              "      box-shadow: 0px 1px 2px rgba(60, 64, 67, 0.3), 0px 1px 3px 1px rgba(60, 64, 67, 0.15);\n",
              "      fill: #174EA6;\n",
              "    }\n",
              "\n",
              "    [theme=dark] .colab-df-convert {\n",
              "      background-color: #3B4455;\n",
              "      fill: #D2E3FC;\n",
              "    }\n",
              "\n",
              "    [theme=dark] .colab-df-convert:hover {\n",
              "      background-color: #434B5C;\n",
              "      box-shadow: 0px 1px 3px 1px rgba(0, 0, 0, 0.15);\n",
              "      filter: drop-shadow(0px 1px 2px rgba(0, 0, 0, 0.3));\n",
              "      fill: #FFFFFF;\n",
              "    }\n",
              "  </style>\n",
              "\n",
              "      <script>\n",
              "        const buttonEl =\n",
              "          document.querySelector('#df-24a40ccc-313b-4833-b76a-38b4e87b9b2a button.colab-df-convert');\n",
              "        buttonEl.style.display =\n",
              "          google.colab.kernel.accessAllowed ? 'block' : 'none';\n",
              "\n",
              "        async function convertToInteractive(key) {\n",
              "          const element = document.querySelector('#df-24a40ccc-313b-4833-b76a-38b4e87b9b2a');\n",
              "          const dataTable =\n",
              "            await google.colab.kernel.invokeFunction('convertToInteractive',\n",
              "                                                     [key], {});\n",
              "          if (!dataTable) return;\n",
              "\n",
              "          const docLinkHtml = 'Like what you see? Visit the ' +\n",
              "            '<a target=\"_blank\" href=https://colab.research.google.com/notebooks/data_table.ipynb>data table notebook</a>'\n",
              "            + ' to learn more about interactive tables.';\n",
              "          element.innerHTML = '';\n",
              "          dataTable['output_type'] = 'display_data';\n",
              "          await google.colab.output.renderOutput(dataTable, element);\n",
              "          const docLink = document.createElement('div');\n",
              "          docLink.innerHTML = docLinkHtml;\n",
              "          element.appendChild(docLink);\n",
              "        }\n",
              "      </script>\n",
              "    </div>\n",
              "  </div>\n",
              "  "
            ],
            "text/plain": [
              "            Enlem     Boylam  Min_Hız  Max_Hız  Ort_Hız  Araç Sayısı  Saat  Gün\n",
              "2598    29.053345  41.091614       12      240       95          123    18    2\n",
              "77649   29.119263  41.025696        7      229       81          107    12    2\n",
              "81081   29.119263  41.025696       12      242       86           76    20    2\n",
              "87320   28.372192  41.168518       77      222      100           13    10    2\n",
              "93409   28.449097  41.174011       55      231       93           21    10    2\n",
              "104664  28.536987  41.168518       66      226       94           24    10    2\n",
              "107606  28.295288  41.141052       59      228       93           18    10    2\n",
              "116286  28.273315  41.146545       70      232       95           23    10    2\n",
              "120421  28.526001  41.168518       75      227       96           23    10    2"
            ]
          },
          "metadata": {},
          "execution_count": 34
        }
      ]
    },
    {
      "cell_type": "markdown",
      "source": [
        "AYKIRI VERİLERİ BASKILAMA YÖNTEMİYLE DOLDURDUK\n"
      ],
      "metadata": {
        "id": "zWp0MbV6cl2u"
      }
    },
    {
      "cell_type": "code",
      "source": [
        "df_max[lower_outliers] = lower_bound\n",
        "df_max[upper_outliers] = upper_bound"
      ],
      "metadata": {
        "id": "2ol6SxMccQzR",
        "colab": {
          "base_uri": "https://localhost:8080/"
        },
        "outputId": "eeae8419-4284-4483-d33e-2a5e579ffa2b"
      },
      "execution_count": null,
      "outputs": [
        {
          "output_type": "stream",
          "name": "stderr",
          "text": [
            "/usr/local/lib/python3.7/dist-packages/ipykernel_launcher.py:2: SettingWithCopyWarning: \n",
            "A value is trying to be set on a copy of a slice from a DataFrame\n",
            "\n",
            "See the caveats in the documentation: https://pandas.pydata.org/pandas-docs/stable/user_guide/indexing.html#returning-a-view-versus-a-copy\n",
            "  \n"
          ]
        }
      ]
    },
    {
      "cell_type": "code",
      "source": [
        "df_max"
      ],
      "metadata": {
        "colab": {
          "base_uri": "https://localhost:8080/"
        },
        "id": "yy0U5GpTctCm",
        "outputId": "de653025-8af9-4d33-edb5-8619041564c1"
      },
      "execution_count": null,
      "outputs": [
        {
          "output_type": "execute_result",
          "data": {
            "text/plain": [
              "4          86.0\n",
              "6         139.0\n",
              "11         95.0\n",
              "12         75.0\n",
              "23         67.0\n",
              "          ...  \n",
              "121200    131.0\n",
              "121201     68.0\n",
              "121208     72.0\n",
              "121210    136.0\n",
              "121212    100.0\n",
              "Name: Max_Hız, Length: 37253, dtype: float64"
            ]
          },
          "metadata": {},
          "execution_count": 36
        }
      ]
    },
    {
      "cell_type": "markdown",
      "source": [
        "MAKSIMUM HIZDAKİ AYKIRI DEĞERLERİ İŞLEDİK MINIMUM HIZDA AZ DA OLSA AYKIRI DEĞER GÖRÜNÜYORDU BAKALIM"
      ],
      "metadata": {
        "id": "wk7Tb10P0nYF"
      }
    },
    {
      "cell_type": "code",
      "source": [
        "df_min = df[\"Min_Hız\"]"
      ],
      "metadata": {
        "id": "IrhoEy0e05C4"
      },
      "execution_count": null,
      "outputs": []
    },
    {
      "cell_type": "code",
      "source": [
        "Q1 = df_min .quantile(0.25)\n",
        "Q3 = df_min .quantile(0.75)\n",
        "IQR = Q3 - Q1\n",
        "\n",
        "lower_bound = Q1 - (1.5) * IQR\n",
        "upper_bound =  Q3 + (1.5) * IQR\n",
        "\n",
        "lower_outliers = (df_min  < (lower_bound))\n",
        "\n",
        "upper_outliers = (df_min  > (upper_bound))\n",
        "\n",
        "outliers = ((df_min < (lower_bound)) |  (df_min  > (upper_bound)) )"
      ],
      "metadata": {
        "id": "rSytuJav05Fs"
      },
      "execution_count": null,
      "outputs": []
    },
    {
      "cell_type": "code",
      "source": [
        "lower_bound"
      ],
      "metadata": {
        "colab": {
          "base_uri": "https://localhost:8080/"
        },
        "id": "fT_dn7Ns05Ib",
        "outputId": "7a9110f3-abb9-4f39-c863-620440657504"
      },
      "execution_count": null,
      "outputs": [
        {
          "output_type": "execute_result",
          "data": {
            "text/plain": [
              "-49.5"
            ]
          },
          "metadata": {},
          "execution_count": 39
        }
      ]
    },
    {
      "cell_type": "code",
      "source": [
        "upper_bound"
      ],
      "metadata": {
        "colab": {
          "base_uri": "https://localhost:8080/"
        },
        "id": "mpjGXxDF05K_",
        "outputId": "8a047bf5-50cf-4c17-fa1b-5ce9ce90c341"
      },
      "execution_count": null,
      "outputs": [
        {
          "output_type": "execute_result",
          "data": {
            "text/plain": [
              "98.5"
            ]
          },
          "metadata": {},
          "execution_count": 40
        }
      ]
    },
    {
      "cell_type": "code",
      "source": [
        "df_min[lower_outliers].shape[0] + df_min[upper_outliers].shape[0]"
      ],
      "metadata": {
        "colab": {
          "base_uri": "https://localhost:8080/"
        },
        "id": "zurG3Tf_05Nu",
        "outputId": "4b196fc5-2cdd-4b0a-ddb0-a82da0e23a8f"
      },
      "execution_count": null,
      "outputs": [
        {
          "output_type": "execute_result",
          "data": {
            "text/plain": [
              "1"
            ]
          },
          "metadata": {},
          "execution_count": 41
        }
      ]
    },
    {
      "cell_type": "code",
      "source": [
        "df_min[upper_outliers].shape[0]"
      ],
      "metadata": {
        "colab": {
          "base_uri": "https://localhost:8080/"
        },
        "id": "T-c4uR0R1dCz",
        "outputId": "98676194-f4bc-4318-a966-88cc369b7605"
      },
      "execution_count": null,
      "outputs": [
        {
          "output_type": "execute_result",
          "data": {
            "text/plain": [
              "1"
            ]
          },
          "metadata": {},
          "execution_count": 42
        }
      ]
    },
    {
      "cell_type": "code",
      "source": [
        "df[outliers]"
      ],
      "metadata": {
        "colab": {
          "base_uri": "https://localhost:8080/",
          "height": 81
        },
        "id": "SK0vMCOx05QZ",
        "outputId": "30a0050d-311c-4076-f318-64ba212b3bc7"
      },
      "execution_count": null,
      "outputs": [
        {
          "output_type": "execute_result",
          "data": {
            "text/html": [
              "\n",
              "  <div id=\"df-0aab9ee9-ebcc-4948-bea4-3776c3d10643\">\n",
              "    <div class=\"colab-df-container\">\n",
              "      <div>\n",
              "<style scoped>\n",
              "    .dataframe tbody tr th:only-of-type {\n",
              "        vertical-align: middle;\n",
              "    }\n",
              "\n",
              "    .dataframe tbody tr th {\n",
              "        vertical-align: top;\n",
              "    }\n",
              "\n",
              "    .dataframe thead th {\n",
              "        text-align: right;\n",
              "    }\n",
              "</style>\n",
              "<table border=\"1\" class=\"dataframe\">\n",
              "  <thead>\n",
              "    <tr style=\"text-align: right;\">\n",
              "      <th></th>\n",
              "      <th>Enlem</th>\n",
              "      <th>Boylam</th>\n",
              "      <th>Min_Hız</th>\n",
              "      <th>Max_Hız</th>\n",
              "      <th>Ort_Hız</th>\n",
              "      <th>Araç Sayısı</th>\n",
              "      <th>Saat</th>\n",
              "      <th>Gün</th>\n",
              "    </tr>\n",
              "  </thead>\n",
              "  <tbody>\n",
              "    <tr>\n",
              "      <th>7671</th>\n",
              "      <td>29.152222</td>\n",
              "      <td>41.047668</td>\n",
              "      <td>100</td>\n",
              "      <td>165.0</td>\n",
              "      <td>134</td>\n",
              "      <td>15</td>\n",
              "      <td>9</td>\n",
              "      <td>2</td>\n",
              "    </tr>\n",
              "  </tbody>\n",
              "</table>\n",
              "</div>\n",
              "      <button class=\"colab-df-convert\" onclick=\"convertToInteractive('df-0aab9ee9-ebcc-4948-bea4-3776c3d10643')\"\n",
              "              title=\"Convert this dataframe to an interactive table.\"\n",
              "              style=\"display:none;\">\n",
              "        \n",
              "  <svg xmlns=\"http://www.w3.org/2000/svg\" height=\"24px\"viewBox=\"0 0 24 24\"\n",
              "       width=\"24px\">\n",
              "    <path d=\"M0 0h24v24H0V0z\" fill=\"none\"/>\n",
              "    <path d=\"M18.56 5.44l.94 2.06.94-2.06 2.06-.94-2.06-.94-.94-2.06-.94 2.06-2.06.94zm-11 1L8.5 8.5l.94-2.06 2.06-.94-2.06-.94L8.5 2.5l-.94 2.06-2.06.94zm10 10l.94 2.06.94-2.06 2.06-.94-2.06-.94-.94-2.06-.94 2.06-2.06.94z\"/><path d=\"M17.41 7.96l-1.37-1.37c-.4-.4-.92-.59-1.43-.59-.52 0-1.04.2-1.43.59L10.3 9.45l-7.72 7.72c-.78.78-.78 2.05 0 2.83L4 21.41c.39.39.9.59 1.41.59.51 0 1.02-.2 1.41-.59l7.78-7.78 2.81-2.81c.8-.78.8-2.07 0-2.86zM5.41 20L4 18.59l7.72-7.72 1.47 1.35L5.41 20z\"/>\n",
              "  </svg>\n",
              "      </button>\n",
              "      \n",
              "  <style>\n",
              "    .colab-df-container {\n",
              "      display:flex;\n",
              "      flex-wrap:wrap;\n",
              "      gap: 12px;\n",
              "    }\n",
              "\n",
              "    .colab-df-convert {\n",
              "      background-color: #E8F0FE;\n",
              "      border: none;\n",
              "      border-radius: 50%;\n",
              "      cursor: pointer;\n",
              "      display: none;\n",
              "      fill: #1967D2;\n",
              "      height: 32px;\n",
              "      padding: 0 0 0 0;\n",
              "      width: 32px;\n",
              "    }\n",
              "\n",
              "    .colab-df-convert:hover {\n",
              "      background-color: #E2EBFA;\n",
              "      box-shadow: 0px 1px 2px rgba(60, 64, 67, 0.3), 0px 1px 3px 1px rgba(60, 64, 67, 0.15);\n",
              "      fill: #174EA6;\n",
              "    }\n",
              "\n",
              "    [theme=dark] .colab-df-convert {\n",
              "      background-color: #3B4455;\n",
              "      fill: #D2E3FC;\n",
              "    }\n",
              "\n",
              "    [theme=dark] .colab-df-convert:hover {\n",
              "      background-color: #434B5C;\n",
              "      box-shadow: 0px 1px 3px 1px rgba(0, 0, 0, 0.15);\n",
              "      filter: drop-shadow(0px 1px 2px rgba(0, 0, 0, 0.3));\n",
              "      fill: #FFFFFF;\n",
              "    }\n",
              "  </style>\n",
              "\n",
              "      <script>\n",
              "        const buttonEl =\n",
              "          document.querySelector('#df-0aab9ee9-ebcc-4948-bea4-3776c3d10643 button.colab-df-convert');\n",
              "        buttonEl.style.display =\n",
              "          google.colab.kernel.accessAllowed ? 'block' : 'none';\n",
              "\n",
              "        async function convertToInteractive(key) {\n",
              "          const element = document.querySelector('#df-0aab9ee9-ebcc-4948-bea4-3776c3d10643');\n",
              "          const dataTable =\n",
              "            await google.colab.kernel.invokeFunction('convertToInteractive',\n",
              "                                                     [key], {});\n",
              "          if (!dataTable) return;\n",
              "\n",
              "          const docLinkHtml = 'Like what you see? Visit the ' +\n",
              "            '<a target=\"_blank\" href=https://colab.research.google.com/notebooks/data_table.ipynb>data table notebook</a>'\n",
              "            + ' to learn more about interactive tables.';\n",
              "          element.innerHTML = '';\n",
              "          dataTable['output_type'] = 'display_data';\n",
              "          await google.colab.output.renderOutput(dataTable, element);\n",
              "          const docLink = document.createElement('div');\n",
              "          docLink.innerHTML = docLinkHtml;\n",
              "          element.appendChild(docLink);\n",
              "        }\n",
              "      </script>\n",
              "    </div>\n",
              "  </div>\n",
              "  "
            ],
            "text/plain": [
              "          Enlem     Boylam  Min_Hız  Max_Hız  Ort_Hız  Araç Sayısı  Saat  Gün\n",
              "7671  29.152222  41.047668      100    165.0      134           15     9    2"
            ]
          },
          "metadata": {},
          "execution_count": 43
        }
      ]
    },
    {
      "cell_type": "code",
      "source": [
        "df_min[upper_outliers] = upper_bound"
      ],
      "metadata": {
        "id": "cLc62we31aAT"
      },
      "execution_count": null,
      "outputs": []
    },
    {
      "cell_type": "code",
      "source": [
        "df_min"
      ],
      "metadata": {
        "colab": {
          "base_uri": "https://localhost:8080/"
        },
        "id": "zI9tVU581aLL",
        "outputId": "c4e60bee-52af-4645-f56f-2afcf7b319ab"
      },
      "execution_count": null,
      "outputs": [
        {
          "output_type": "execute_result",
          "data": {
            "text/plain": [
              "4          8.0\n",
              "6          9.0\n",
              "11         3.0\n",
              "12         1.0\n",
              "23        10.0\n",
              "          ... \n",
              "121200    20.0\n",
              "121201     5.0\n",
              "121208     4.0\n",
              "121210    55.0\n",
              "121212     6.0\n",
              "Name: Min_Hız, Length: 37253, dtype: float64"
            ]
          },
          "metadata": {},
          "execution_count": 45
        }
      ]
    },
    {
      "cell_type": "code",
      "source": [
        "df"
      ],
      "metadata": {
        "colab": {
          "base_uri": "https://localhost:8080/",
          "height": 424
        },
        "id": "qOS7G1J42dzT",
        "outputId": "bb7d926a-75b4-41c5-98b0-fcf54615fb48"
      },
      "execution_count": null,
      "outputs": [
        {
          "output_type": "execute_result",
          "data": {
            "text/html": [
              "\n",
              "  <div id=\"df-709bbdc8-c815-4824-af2b-b999f9e6dbb7\">\n",
              "    <div class=\"colab-df-container\">\n",
              "      <div>\n",
              "<style scoped>\n",
              "    .dataframe tbody tr th:only-of-type {\n",
              "        vertical-align: middle;\n",
              "    }\n",
              "\n",
              "    .dataframe tbody tr th {\n",
              "        vertical-align: top;\n",
              "    }\n",
              "\n",
              "    .dataframe thead th {\n",
              "        text-align: right;\n",
              "    }\n",
              "</style>\n",
              "<table border=\"1\" class=\"dataframe\">\n",
              "  <thead>\n",
              "    <tr style=\"text-align: right;\">\n",
              "      <th></th>\n",
              "      <th>Enlem</th>\n",
              "      <th>Boylam</th>\n",
              "      <th>Min_Hız</th>\n",
              "      <th>Max_Hız</th>\n",
              "      <th>Ort_Hız</th>\n",
              "      <th>Araç Sayısı</th>\n",
              "      <th>Saat</th>\n",
              "      <th>Gün</th>\n",
              "    </tr>\n",
              "  </thead>\n",
              "  <tbody>\n",
              "    <tr>\n",
              "      <th>4</th>\n",
              "      <td>28.778687</td>\n",
              "      <td>41.212463</td>\n",
              "      <td>8.0</td>\n",
              "      <td>86.0</td>\n",
              "      <td>39</td>\n",
              "      <td>38</td>\n",
              "      <td>16</td>\n",
              "      <td>2</td>\n",
              "    </tr>\n",
              "    <tr>\n",
              "      <th>6</th>\n",
              "      <td>28.756714</td>\n",
              "      <td>41.058655</td>\n",
              "      <td>9.0</td>\n",
              "      <td>139.0</td>\n",
              "      <td>73</td>\n",
              "      <td>142</td>\n",
              "      <td>22</td>\n",
              "      <td>2</td>\n",
              "    </tr>\n",
              "    <tr>\n",
              "      <th>11</th>\n",
              "      <td>29.031372</td>\n",
              "      <td>41.157532</td>\n",
              "      <td>3.0</td>\n",
              "      <td>95.0</td>\n",
              "      <td>41</td>\n",
              "      <td>12</td>\n",
              "      <td>22</td>\n",
              "      <td>2</td>\n",
              "    </tr>\n",
              "    <tr>\n",
              "      <th>12</th>\n",
              "      <td>28.998413</td>\n",
              "      <td>41.069641</td>\n",
              "      <td>1.0</td>\n",
              "      <td>75.0</td>\n",
              "      <td>23</td>\n",
              "      <td>25</td>\n",
              "      <td>7</td>\n",
              "      <td>2</td>\n",
              "    </tr>\n",
              "    <tr>\n",
              "      <th>23</th>\n",
              "      <td>29.152222</td>\n",
              "      <td>40.943298</td>\n",
              "      <td>10.0</td>\n",
              "      <td>67.0</td>\n",
              "      <td>32</td>\n",
              "      <td>28</td>\n",
              "      <td>18</td>\n",
              "      <td>2</td>\n",
              "    </tr>\n",
              "    <tr>\n",
              "      <th>...</th>\n",
              "      <td>...</td>\n",
              "      <td>...</td>\n",
              "      <td>...</td>\n",
              "      <td>...</td>\n",
              "      <td>...</td>\n",
              "      <td>...</td>\n",
              "      <td>...</td>\n",
              "      <td>...</td>\n",
              "    </tr>\n",
              "    <tr>\n",
              "      <th>121200</th>\n",
              "      <td>29.382935</td>\n",
              "      <td>40.794983</td>\n",
              "      <td>20.0</td>\n",
              "      <td>131.0</td>\n",
              "      <td>81</td>\n",
              "      <td>80</td>\n",
              "      <td>14</td>\n",
              "      <td>2</td>\n",
              "    </tr>\n",
              "    <tr>\n",
              "      <th>121201</th>\n",
              "      <td>29.042358</td>\n",
              "      <td>40.998230</td>\n",
              "      <td>5.0</td>\n",
              "      <td>68.0</td>\n",
              "      <td>34</td>\n",
              "      <td>18</td>\n",
              "      <td>0</td>\n",
              "      <td>2</td>\n",
              "    </tr>\n",
              "    <tr>\n",
              "      <th>121208</th>\n",
              "      <td>28.822632</td>\n",
              "      <td>41.031189</td>\n",
              "      <td>4.0</td>\n",
              "      <td>72.0</td>\n",
              "      <td>31</td>\n",
              "      <td>40</td>\n",
              "      <td>17</td>\n",
              "      <td>2</td>\n",
              "    </tr>\n",
              "    <tr>\n",
              "      <th>121210</th>\n",
              "      <td>28.394165</td>\n",
              "      <td>41.069641</td>\n",
              "      <td>55.0</td>\n",
              "      <td>136.0</td>\n",
              "      <td>85</td>\n",
              "      <td>50</td>\n",
              "      <td>12</td>\n",
              "      <td>2</td>\n",
              "    </tr>\n",
              "    <tr>\n",
              "      <th>121212</th>\n",
              "      <td>29.317017</td>\n",
              "      <td>40.954285</td>\n",
              "      <td>6.0</td>\n",
              "      <td>100.0</td>\n",
              "      <td>34</td>\n",
              "      <td>17</td>\n",
              "      <td>20</td>\n",
              "      <td>2</td>\n",
              "    </tr>\n",
              "  </tbody>\n",
              "</table>\n",
              "<p>37253 rows × 8 columns</p>\n",
              "</div>\n",
              "      <button class=\"colab-df-convert\" onclick=\"convertToInteractive('df-709bbdc8-c815-4824-af2b-b999f9e6dbb7')\"\n",
              "              title=\"Convert this dataframe to an interactive table.\"\n",
              "              style=\"display:none;\">\n",
              "        \n",
              "  <svg xmlns=\"http://www.w3.org/2000/svg\" height=\"24px\"viewBox=\"0 0 24 24\"\n",
              "       width=\"24px\">\n",
              "    <path d=\"M0 0h24v24H0V0z\" fill=\"none\"/>\n",
              "    <path d=\"M18.56 5.44l.94 2.06.94-2.06 2.06-.94-2.06-.94-.94-2.06-.94 2.06-2.06.94zm-11 1L8.5 8.5l.94-2.06 2.06-.94-2.06-.94L8.5 2.5l-.94 2.06-2.06.94zm10 10l.94 2.06.94-2.06 2.06-.94-2.06-.94-.94-2.06-.94 2.06-2.06.94z\"/><path d=\"M17.41 7.96l-1.37-1.37c-.4-.4-.92-.59-1.43-.59-.52 0-1.04.2-1.43.59L10.3 9.45l-7.72 7.72c-.78.78-.78 2.05 0 2.83L4 21.41c.39.39.9.59 1.41.59.51 0 1.02-.2 1.41-.59l7.78-7.78 2.81-2.81c.8-.78.8-2.07 0-2.86zM5.41 20L4 18.59l7.72-7.72 1.47 1.35L5.41 20z\"/>\n",
              "  </svg>\n",
              "      </button>\n",
              "      \n",
              "  <style>\n",
              "    .colab-df-container {\n",
              "      display:flex;\n",
              "      flex-wrap:wrap;\n",
              "      gap: 12px;\n",
              "    }\n",
              "\n",
              "    .colab-df-convert {\n",
              "      background-color: #E8F0FE;\n",
              "      border: none;\n",
              "      border-radius: 50%;\n",
              "      cursor: pointer;\n",
              "      display: none;\n",
              "      fill: #1967D2;\n",
              "      height: 32px;\n",
              "      padding: 0 0 0 0;\n",
              "      width: 32px;\n",
              "    }\n",
              "\n",
              "    .colab-df-convert:hover {\n",
              "      background-color: #E2EBFA;\n",
              "      box-shadow: 0px 1px 2px rgba(60, 64, 67, 0.3), 0px 1px 3px 1px rgba(60, 64, 67, 0.15);\n",
              "      fill: #174EA6;\n",
              "    }\n",
              "\n",
              "    [theme=dark] .colab-df-convert {\n",
              "      background-color: #3B4455;\n",
              "      fill: #D2E3FC;\n",
              "    }\n",
              "\n",
              "    [theme=dark] .colab-df-convert:hover {\n",
              "      background-color: #434B5C;\n",
              "      box-shadow: 0px 1px 3px 1px rgba(0, 0, 0, 0.15);\n",
              "      filter: drop-shadow(0px 1px 2px rgba(0, 0, 0, 0.3));\n",
              "      fill: #FFFFFF;\n",
              "    }\n",
              "  </style>\n",
              "\n",
              "      <script>\n",
              "        const buttonEl =\n",
              "          document.querySelector('#df-709bbdc8-c815-4824-af2b-b999f9e6dbb7 button.colab-df-convert');\n",
              "        buttonEl.style.display =\n",
              "          google.colab.kernel.accessAllowed ? 'block' : 'none';\n",
              "\n",
              "        async function convertToInteractive(key) {\n",
              "          const element = document.querySelector('#df-709bbdc8-c815-4824-af2b-b999f9e6dbb7');\n",
              "          const dataTable =\n",
              "            await google.colab.kernel.invokeFunction('convertToInteractive',\n",
              "                                                     [key], {});\n",
              "          if (!dataTable) return;\n",
              "\n",
              "          const docLinkHtml = 'Like what you see? Visit the ' +\n",
              "            '<a target=\"_blank\" href=https://colab.research.google.com/notebooks/data_table.ipynb>data table notebook</a>'\n",
              "            + ' to learn more about interactive tables.';\n",
              "          element.innerHTML = '';\n",
              "          dataTable['output_type'] = 'display_data';\n",
              "          await google.colab.output.renderOutput(dataTable, element);\n",
              "          const docLink = document.createElement('div');\n",
              "          docLink.innerHTML = docLinkHtml;\n",
              "          element.appendChild(docLink);\n",
              "        }\n",
              "      </script>\n",
              "    </div>\n",
              "  </div>\n",
              "  "
            ],
            "text/plain": [
              "            Enlem     Boylam  Min_Hız  Max_Hız  Ort_Hız  Araç Sayısı  Saat  Gün\n",
              "4       28.778687  41.212463      8.0     86.0       39           38    16    2\n",
              "6       28.756714  41.058655      9.0    139.0       73          142    22    2\n",
              "11      29.031372  41.157532      3.0     95.0       41           12    22    2\n",
              "12      28.998413  41.069641      1.0     75.0       23           25     7    2\n",
              "23      29.152222  40.943298     10.0     67.0       32           28    18    2\n",
              "...           ...        ...      ...      ...      ...          ...   ...  ...\n",
              "121200  29.382935  40.794983     20.0    131.0       81           80    14    2\n",
              "121201  29.042358  40.998230      5.0     68.0       34           18     0    2\n",
              "121208  28.822632  41.031189      4.0     72.0       31           40    17    2\n",
              "121210  28.394165  41.069641     55.0    136.0       85           50    12    2\n",
              "121212  29.317017  40.954285      6.0    100.0       34           17    20    2\n",
              "\n",
              "[37253 rows x 8 columns]"
            ]
          },
          "metadata": {},
          "execution_count": 46
        }
      ]
    },
    {
      "cell_type": "code",
      "source": [
        "df_vehicle = df[\"Araç Sayısı\"]"
      ],
      "metadata": {
        "id": "VylmrJhWqCmj"
      },
      "execution_count": null,
      "outputs": []
    },
    {
      "cell_type": "code",
      "source": [
        "Q1 = df_vehicle  .quantile(0.25)\n",
        "Q3 = df_vehicle .quantile(0.75)\n",
        "IQR = Q3 - Q1\n",
        "\n",
        "lower_bound = Q1 - (1.5) * IQR\n",
        "upper_bound =  Q3 + (1.5) * IQR\n",
        "\n",
        "lower_outliers = (df_vehicle   < (lower_bound))\n",
        "\n",
        "upper_outliers = (df_vehicle   > (upper_bound))\n",
        "\n",
        "outliers = ((df_vehicle  < (lower_bound)) |  (df_vehicle   > (upper_bound)) )"
      ],
      "metadata": {
        "id": "jyY7InvwqCo4"
      },
      "execution_count": null,
      "outputs": []
    },
    {
      "cell_type": "code",
      "source": [
        "lower_bound"
      ],
      "metadata": {
        "colab": {
          "base_uri": "https://localhost:8080/"
        },
        "id": "iRSiYr3SqCq8",
        "outputId": "c1b1fef5-eae8-4413-d556-7f49555e9065"
      },
      "execution_count": null,
      "outputs": [
        {
          "output_type": "execute_result",
          "data": {
            "text/plain": [
              "-41.0"
            ]
          },
          "metadata": {},
          "execution_count": 50
        }
      ]
    },
    {
      "cell_type": "code",
      "source": [
        "df_vehicle[lower_outliers].shape[0]"
      ],
      "metadata": {
        "colab": {
          "base_uri": "https://localhost:8080/"
        },
        "id": "vgBTym4TzQ5N",
        "outputId": "bd0aee82-bde2-416f-983f-a81cce281f69"
      },
      "execution_count": null,
      "outputs": [
        {
          "output_type": "execute_result",
          "data": {
            "text/plain": [
              "0"
            ]
          },
          "metadata": {},
          "execution_count": 51
        }
      ]
    },
    {
      "cell_type": "code",
      "source": [
        "upper_bound"
      ],
      "metadata": {
        "colab": {
          "base_uri": "https://localhost:8080/"
        },
        "id": "tHT7qjB8qCtc",
        "outputId": "7ae75d63-f35b-456d-cc0a-b9aab80eb356"
      },
      "execution_count": null,
      "outputs": [
        {
          "output_type": "execute_result",
          "data": {
            "text/plain": [
              "119.0"
            ]
          },
          "metadata": {},
          "execution_count": 52
        }
      ]
    },
    {
      "cell_type": "code",
      "source": [
        "df_vehicle[upper_outliers].shape[0]"
      ],
      "metadata": {
        "colab": {
          "base_uri": "https://localhost:8080/"
        },
        "id": "FoC7pqcpzXyf",
        "outputId": "8a909477-c500-437b-b772-81db51518ba2"
      },
      "execution_count": null,
      "outputs": [
        {
          "output_type": "execute_result",
          "data": {
            "text/plain": [
              "2650"
            ]
          },
          "metadata": {},
          "execution_count": 53
        }
      ]
    },
    {
      "cell_type": "code",
      "source": [
        "df_vehicle[lower_outliers].shape[0] + df_vehicle[upper_outliers].shape[0]"
      ],
      "metadata": {
        "colab": {
          "base_uri": "https://localhost:8080/"
        },
        "id": "Dlek3dZuvtJc",
        "outputId": "d4be57cc-3086-4530-eeb2-c68d9250aac6"
      },
      "execution_count": null,
      "outputs": [
        {
          "output_type": "execute_result",
          "data": {
            "text/plain": [
              "2650"
            ]
          },
          "metadata": {},
          "execution_count": 54
        }
      ]
    },
    {
      "cell_type": "code",
      "source": [
        "df[outliers]"
      ],
      "metadata": {
        "colab": {
          "base_uri": "https://localhost:8080/",
          "height": 424
        },
        "id": "c7vMYrwbqCvV",
        "outputId": "78ea35af-3902-4064-c92e-8d615a2153bc"
      },
      "execution_count": null,
      "outputs": [
        {
          "output_type": "execute_result",
          "data": {
            "text/html": [
              "\n",
              "  <div id=\"df-84e33221-504e-438b-bae5-ea535088ee3c\">\n",
              "    <div class=\"colab-df-container\">\n",
              "      <div>\n",
              "<style scoped>\n",
              "    .dataframe tbody tr th:only-of-type {\n",
              "        vertical-align: middle;\n",
              "    }\n",
              "\n",
              "    .dataframe tbody tr th {\n",
              "        vertical-align: top;\n",
              "    }\n",
              "\n",
              "    .dataframe thead th {\n",
              "        text-align: right;\n",
              "    }\n",
              "</style>\n",
              "<table border=\"1\" class=\"dataframe\">\n",
              "  <thead>\n",
              "    <tr style=\"text-align: right;\">\n",
              "      <th></th>\n",
              "      <th>Enlem</th>\n",
              "      <th>Boylam</th>\n",
              "      <th>Min_Hız</th>\n",
              "      <th>Max_Hız</th>\n",
              "      <th>Ort_Hız</th>\n",
              "      <th>Araç Sayısı</th>\n",
              "      <th>Saat</th>\n",
              "      <th>Gün</th>\n",
              "    </tr>\n",
              "  </thead>\n",
              "  <tbody>\n",
              "    <tr>\n",
              "      <th>6</th>\n",
              "      <td>28.756714</td>\n",
              "      <td>41.058655</td>\n",
              "      <td>9.0</td>\n",
              "      <td>139.0</td>\n",
              "      <td>73</td>\n",
              "      <td>142</td>\n",
              "      <td>22</td>\n",
              "      <td>2</td>\n",
              "    </tr>\n",
              "    <tr>\n",
              "      <th>174</th>\n",
              "      <td>28.833618</td>\n",
              "      <td>41.064148</td>\n",
              "      <td>6.0</td>\n",
              "      <td>155.0</td>\n",
              "      <td>78</td>\n",
              "      <td>191</td>\n",
              "      <td>22</td>\n",
              "      <td>2</td>\n",
              "    </tr>\n",
              "    <tr>\n",
              "      <th>188</th>\n",
              "      <td>28.800659</td>\n",
              "      <td>41.239929</td>\n",
              "      <td>62.0</td>\n",
              "      <td>151.0</td>\n",
              "      <td>84</td>\n",
              "      <td>174</td>\n",
              "      <td>5</td>\n",
              "      <td>2</td>\n",
              "    </tr>\n",
              "    <tr>\n",
              "      <th>204</th>\n",
              "      <td>28.811646</td>\n",
              "      <td>41.036682</td>\n",
              "      <td>5.0</td>\n",
              "      <td>127.0</td>\n",
              "      <td>74</td>\n",
              "      <td>145</td>\n",
              "      <td>23</td>\n",
              "      <td>2</td>\n",
              "    </tr>\n",
              "    <tr>\n",
              "      <th>222</th>\n",
              "      <td>29.328003</td>\n",
              "      <td>40.937805</td>\n",
              "      <td>6.0</td>\n",
              "      <td>167.0</td>\n",
              "      <td>77</td>\n",
              "      <td>212</td>\n",
              "      <td>7</td>\n",
              "      <td>2</td>\n",
              "    </tr>\n",
              "    <tr>\n",
              "      <th>...</th>\n",
              "      <td>...</td>\n",
              "      <td>...</td>\n",
              "      <td>...</td>\n",
              "      <td>...</td>\n",
              "      <td>...</td>\n",
              "      <td>...</td>\n",
              "      <td>...</td>\n",
              "      <td>...</td>\n",
              "    </tr>\n",
              "    <tr>\n",
              "      <th>120924</th>\n",
              "      <td>29.371948</td>\n",
              "      <td>40.899353</td>\n",
              "      <td>37.0</td>\n",
              "      <td>166.0</td>\n",
              "      <td>85</td>\n",
              "      <td>163</td>\n",
              "      <td>23</td>\n",
              "      <td>2</td>\n",
              "    </tr>\n",
              "    <tr>\n",
              "      <th>121080</th>\n",
              "      <td>29.009399</td>\n",
              "      <td>41.064148</td>\n",
              "      <td>2.0</td>\n",
              "      <td>119.0</td>\n",
              "      <td>54</td>\n",
              "      <td>134</td>\n",
              "      <td>13</td>\n",
              "      <td>2</td>\n",
              "    </tr>\n",
              "    <tr>\n",
              "      <th>121083</th>\n",
              "      <td>28.998413</td>\n",
              "      <td>41.064148</td>\n",
              "      <td>3.0</td>\n",
              "      <td>128.0</td>\n",
              "      <td>53</td>\n",
              "      <td>127</td>\n",
              "      <td>8</td>\n",
              "      <td>2</td>\n",
              "    </tr>\n",
              "    <tr>\n",
              "      <th>121088</th>\n",
              "      <td>28.822632</td>\n",
              "      <td>40.998230</td>\n",
              "      <td>12.0</td>\n",
              "      <td>110.0</td>\n",
              "      <td>69</td>\n",
              "      <td>135</td>\n",
              "      <td>22</td>\n",
              "      <td>2</td>\n",
              "    </tr>\n",
              "    <tr>\n",
              "      <th>121199</th>\n",
              "      <td>29.349976</td>\n",
              "      <td>40.921326</td>\n",
              "      <td>36.0</td>\n",
              "      <td>151.0</td>\n",
              "      <td>85</td>\n",
              "      <td>148</td>\n",
              "      <td>23</td>\n",
              "      <td>2</td>\n",
              "    </tr>\n",
              "  </tbody>\n",
              "</table>\n",
              "<p>2650 rows × 8 columns</p>\n",
              "</div>\n",
              "      <button class=\"colab-df-convert\" onclick=\"convertToInteractive('df-84e33221-504e-438b-bae5-ea535088ee3c')\"\n",
              "              title=\"Convert this dataframe to an interactive table.\"\n",
              "              style=\"display:none;\">\n",
              "        \n",
              "  <svg xmlns=\"http://www.w3.org/2000/svg\" height=\"24px\"viewBox=\"0 0 24 24\"\n",
              "       width=\"24px\">\n",
              "    <path d=\"M0 0h24v24H0V0z\" fill=\"none\"/>\n",
              "    <path d=\"M18.56 5.44l.94 2.06.94-2.06 2.06-.94-2.06-.94-.94-2.06-.94 2.06-2.06.94zm-11 1L8.5 8.5l.94-2.06 2.06-.94-2.06-.94L8.5 2.5l-.94 2.06-2.06.94zm10 10l.94 2.06.94-2.06 2.06-.94-2.06-.94-.94-2.06-.94 2.06-2.06.94z\"/><path d=\"M17.41 7.96l-1.37-1.37c-.4-.4-.92-.59-1.43-.59-.52 0-1.04.2-1.43.59L10.3 9.45l-7.72 7.72c-.78.78-.78 2.05 0 2.83L4 21.41c.39.39.9.59 1.41.59.51 0 1.02-.2 1.41-.59l7.78-7.78 2.81-2.81c.8-.78.8-2.07 0-2.86zM5.41 20L4 18.59l7.72-7.72 1.47 1.35L5.41 20z\"/>\n",
              "  </svg>\n",
              "      </button>\n",
              "      \n",
              "  <style>\n",
              "    .colab-df-container {\n",
              "      display:flex;\n",
              "      flex-wrap:wrap;\n",
              "      gap: 12px;\n",
              "    }\n",
              "\n",
              "    .colab-df-convert {\n",
              "      background-color: #E8F0FE;\n",
              "      border: none;\n",
              "      border-radius: 50%;\n",
              "      cursor: pointer;\n",
              "      display: none;\n",
              "      fill: #1967D2;\n",
              "      height: 32px;\n",
              "      padding: 0 0 0 0;\n",
              "      width: 32px;\n",
              "    }\n",
              "\n",
              "    .colab-df-convert:hover {\n",
              "      background-color: #E2EBFA;\n",
              "      box-shadow: 0px 1px 2px rgba(60, 64, 67, 0.3), 0px 1px 3px 1px rgba(60, 64, 67, 0.15);\n",
              "      fill: #174EA6;\n",
              "    }\n",
              "\n",
              "    [theme=dark] .colab-df-convert {\n",
              "      background-color: #3B4455;\n",
              "      fill: #D2E3FC;\n",
              "    }\n",
              "\n",
              "    [theme=dark] .colab-df-convert:hover {\n",
              "      background-color: #434B5C;\n",
              "      box-shadow: 0px 1px 3px 1px rgba(0, 0, 0, 0.15);\n",
              "      filter: drop-shadow(0px 1px 2px rgba(0, 0, 0, 0.3));\n",
              "      fill: #FFFFFF;\n",
              "    }\n",
              "  </style>\n",
              "\n",
              "      <script>\n",
              "        const buttonEl =\n",
              "          document.querySelector('#df-84e33221-504e-438b-bae5-ea535088ee3c button.colab-df-convert');\n",
              "        buttonEl.style.display =\n",
              "          google.colab.kernel.accessAllowed ? 'block' : 'none';\n",
              "\n",
              "        async function convertToInteractive(key) {\n",
              "          const element = document.querySelector('#df-84e33221-504e-438b-bae5-ea535088ee3c');\n",
              "          const dataTable =\n",
              "            await google.colab.kernel.invokeFunction('convertToInteractive',\n",
              "                                                     [key], {});\n",
              "          if (!dataTable) return;\n",
              "\n",
              "          const docLinkHtml = 'Like what you see? Visit the ' +\n",
              "            '<a target=\"_blank\" href=https://colab.research.google.com/notebooks/data_table.ipynb>data table notebook</a>'\n",
              "            + ' to learn more about interactive tables.';\n",
              "          element.innerHTML = '';\n",
              "          dataTable['output_type'] = 'display_data';\n",
              "          await google.colab.output.renderOutput(dataTable, element);\n",
              "          const docLink = document.createElement('div');\n",
              "          docLink.innerHTML = docLinkHtml;\n",
              "          element.appendChild(docLink);\n",
              "        }\n",
              "      </script>\n",
              "    </div>\n",
              "  </div>\n",
              "  "
            ],
            "text/plain": [
              "            Enlem     Boylam  Min_Hız  Max_Hız  Ort_Hız  Araç Sayısı  Saat  Gün\n",
              "6       28.756714  41.058655      9.0    139.0       73          142    22    2\n",
              "174     28.833618  41.064148      6.0    155.0       78          191    22    2\n",
              "188     28.800659  41.239929     62.0    151.0       84          174     5    2\n",
              "204     28.811646  41.036682      5.0    127.0       74          145    23    2\n",
              "222     29.328003  40.937805      6.0    167.0       77          212     7    2\n",
              "...           ...        ...      ...      ...      ...          ...   ...  ...\n",
              "120924  29.371948  40.899353     37.0    166.0       85          163    23    2\n",
              "121080  29.009399  41.064148      2.0    119.0       54          134    13    2\n",
              "121083  28.998413  41.064148      3.0    128.0       53          127     8    2\n",
              "121088  28.822632  40.998230     12.0    110.0       69          135    22    2\n",
              "121199  29.349976  40.921326     36.0    151.0       85          148    23    2\n",
              "\n",
              "[2650 rows x 8 columns]"
            ]
          },
          "metadata": {},
          "execution_count": 55
        }
      ]
    },
    {
      "cell_type": "code",
      "source": [
        "df_vehicle[upper_outliers] = upper_bound"
      ],
      "metadata": {
        "id": "kYXDXW2fwQDV"
      },
      "execution_count": null,
      "outputs": []
    },
    {
      "cell_type": "code",
      "source": [
        "df_vehicle"
      ],
      "metadata": {
        "colab": {
          "base_uri": "https://localhost:8080/"
        },
        "id": "g-SNHFeKx939",
        "outputId": "2648e16b-1a81-41a5-aadb-2c99443776ce"
      },
      "execution_count": null,
      "outputs": [
        {
          "output_type": "execute_result",
          "data": {
            "text/plain": [
              "4          38\n",
              "6         119\n",
              "11         12\n",
              "12         25\n",
              "23         28\n",
              "         ... \n",
              "121200     80\n",
              "121201     18\n",
              "121208     40\n",
              "121210     50\n",
              "121212     17\n",
              "Name: Araç Sayısı, Length: 37253, dtype: int64"
            ]
          },
          "metadata": {},
          "execution_count": 57
        }
      ]
    },
    {
      "cell_type": "code",
      "source": [
        "df"
      ],
      "metadata": {
        "colab": {
          "base_uri": "https://localhost:8080/",
          "height": 424
        },
        "id": "JkbINK6Dx97A",
        "outputId": "4ab0f8d0-3569-4fec-b821-2599677798bd"
      },
      "execution_count": null,
      "outputs": [
        {
          "output_type": "execute_result",
          "data": {
            "text/html": [
              "\n",
              "  <div id=\"df-a1bd713a-d1d7-4f45-aabc-d860e525d98b\">\n",
              "    <div class=\"colab-df-container\">\n",
              "      <div>\n",
              "<style scoped>\n",
              "    .dataframe tbody tr th:only-of-type {\n",
              "        vertical-align: middle;\n",
              "    }\n",
              "\n",
              "    .dataframe tbody tr th {\n",
              "        vertical-align: top;\n",
              "    }\n",
              "\n",
              "    .dataframe thead th {\n",
              "        text-align: right;\n",
              "    }\n",
              "</style>\n",
              "<table border=\"1\" class=\"dataframe\">\n",
              "  <thead>\n",
              "    <tr style=\"text-align: right;\">\n",
              "      <th></th>\n",
              "      <th>Enlem</th>\n",
              "      <th>Boylam</th>\n",
              "      <th>Min_Hız</th>\n",
              "      <th>Max_Hız</th>\n",
              "      <th>Ort_Hız</th>\n",
              "      <th>Araç Sayısı</th>\n",
              "      <th>Saat</th>\n",
              "      <th>Gün</th>\n",
              "    </tr>\n",
              "  </thead>\n",
              "  <tbody>\n",
              "    <tr>\n",
              "      <th>4</th>\n",
              "      <td>28.778687</td>\n",
              "      <td>41.212463</td>\n",
              "      <td>8.0</td>\n",
              "      <td>86.0</td>\n",
              "      <td>39</td>\n",
              "      <td>38</td>\n",
              "      <td>16</td>\n",
              "      <td>2</td>\n",
              "    </tr>\n",
              "    <tr>\n",
              "      <th>6</th>\n",
              "      <td>28.756714</td>\n",
              "      <td>41.058655</td>\n",
              "      <td>9.0</td>\n",
              "      <td>139.0</td>\n",
              "      <td>73</td>\n",
              "      <td>119</td>\n",
              "      <td>22</td>\n",
              "      <td>2</td>\n",
              "    </tr>\n",
              "    <tr>\n",
              "      <th>11</th>\n",
              "      <td>29.031372</td>\n",
              "      <td>41.157532</td>\n",
              "      <td>3.0</td>\n",
              "      <td>95.0</td>\n",
              "      <td>41</td>\n",
              "      <td>12</td>\n",
              "      <td>22</td>\n",
              "      <td>2</td>\n",
              "    </tr>\n",
              "    <tr>\n",
              "      <th>12</th>\n",
              "      <td>28.998413</td>\n",
              "      <td>41.069641</td>\n",
              "      <td>1.0</td>\n",
              "      <td>75.0</td>\n",
              "      <td>23</td>\n",
              "      <td>25</td>\n",
              "      <td>7</td>\n",
              "      <td>2</td>\n",
              "    </tr>\n",
              "    <tr>\n",
              "      <th>23</th>\n",
              "      <td>29.152222</td>\n",
              "      <td>40.943298</td>\n",
              "      <td>10.0</td>\n",
              "      <td>67.0</td>\n",
              "      <td>32</td>\n",
              "      <td>28</td>\n",
              "      <td>18</td>\n",
              "      <td>2</td>\n",
              "    </tr>\n",
              "    <tr>\n",
              "      <th>...</th>\n",
              "      <td>...</td>\n",
              "      <td>...</td>\n",
              "      <td>...</td>\n",
              "      <td>...</td>\n",
              "      <td>...</td>\n",
              "      <td>...</td>\n",
              "      <td>...</td>\n",
              "      <td>...</td>\n",
              "    </tr>\n",
              "    <tr>\n",
              "      <th>121200</th>\n",
              "      <td>29.382935</td>\n",
              "      <td>40.794983</td>\n",
              "      <td>20.0</td>\n",
              "      <td>131.0</td>\n",
              "      <td>81</td>\n",
              "      <td>80</td>\n",
              "      <td>14</td>\n",
              "      <td>2</td>\n",
              "    </tr>\n",
              "    <tr>\n",
              "      <th>121201</th>\n",
              "      <td>29.042358</td>\n",
              "      <td>40.998230</td>\n",
              "      <td>5.0</td>\n",
              "      <td>68.0</td>\n",
              "      <td>34</td>\n",
              "      <td>18</td>\n",
              "      <td>0</td>\n",
              "      <td>2</td>\n",
              "    </tr>\n",
              "    <tr>\n",
              "      <th>121208</th>\n",
              "      <td>28.822632</td>\n",
              "      <td>41.031189</td>\n",
              "      <td>4.0</td>\n",
              "      <td>72.0</td>\n",
              "      <td>31</td>\n",
              "      <td>40</td>\n",
              "      <td>17</td>\n",
              "      <td>2</td>\n",
              "    </tr>\n",
              "    <tr>\n",
              "      <th>121210</th>\n",
              "      <td>28.394165</td>\n",
              "      <td>41.069641</td>\n",
              "      <td>55.0</td>\n",
              "      <td>136.0</td>\n",
              "      <td>85</td>\n",
              "      <td>50</td>\n",
              "      <td>12</td>\n",
              "      <td>2</td>\n",
              "    </tr>\n",
              "    <tr>\n",
              "      <th>121212</th>\n",
              "      <td>29.317017</td>\n",
              "      <td>40.954285</td>\n",
              "      <td>6.0</td>\n",
              "      <td>100.0</td>\n",
              "      <td>34</td>\n",
              "      <td>17</td>\n",
              "      <td>20</td>\n",
              "      <td>2</td>\n",
              "    </tr>\n",
              "  </tbody>\n",
              "</table>\n",
              "<p>37253 rows × 8 columns</p>\n",
              "</div>\n",
              "      <button class=\"colab-df-convert\" onclick=\"convertToInteractive('df-a1bd713a-d1d7-4f45-aabc-d860e525d98b')\"\n",
              "              title=\"Convert this dataframe to an interactive table.\"\n",
              "              style=\"display:none;\">\n",
              "        \n",
              "  <svg xmlns=\"http://www.w3.org/2000/svg\" height=\"24px\"viewBox=\"0 0 24 24\"\n",
              "       width=\"24px\">\n",
              "    <path d=\"M0 0h24v24H0V0z\" fill=\"none\"/>\n",
              "    <path d=\"M18.56 5.44l.94 2.06.94-2.06 2.06-.94-2.06-.94-.94-2.06-.94 2.06-2.06.94zm-11 1L8.5 8.5l.94-2.06 2.06-.94-2.06-.94L8.5 2.5l-.94 2.06-2.06.94zm10 10l.94 2.06.94-2.06 2.06-.94-2.06-.94-.94-2.06-.94 2.06-2.06.94z\"/><path d=\"M17.41 7.96l-1.37-1.37c-.4-.4-.92-.59-1.43-.59-.52 0-1.04.2-1.43.59L10.3 9.45l-7.72 7.72c-.78.78-.78 2.05 0 2.83L4 21.41c.39.39.9.59 1.41.59.51 0 1.02-.2 1.41-.59l7.78-7.78 2.81-2.81c.8-.78.8-2.07 0-2.86zM5.41 20L4 18.59l7.72-7.72 1.47 1.35L5.41 20z\"/>\n",
              "  </svg>\n",
              "      </button>\n",
              "      \n",
              "  <style>\n",
              "    .colab-df-container {\n",
              "      display:flex;\n",
              "      flex-wrap:wrap;\n",
              "      gap: 12px;\n",
              "    }\n",
              "\n",
              "    .colab-df-convert {\n",
              "      background-color: #E8F0FE;\n",
              "      border: none;\n",
              "      border-radius: 50%;\n",
              "      cursor: pointer;\n",
              "      display: none;\n",
              "      fill: #1967D2;\n",
              "      height: 32px;\n",
              "      padding: 0 0 0 0;\n",
              "      width: 32px;\n",
              "    }\n",
              "\n",
              "    .colab-df-convert:hover {\n",
              "      background-color: #E2EBFA;\n",
              "      box-shadow: 0px 1px 2px rgba(60, 64, 67, 0.3), 0px 1px 3px 1px rgba(60, 64, 67, 0.15);\n",
              "      fill: #174EA6;\n",
              "    }\n",
              "\n",
              "    [theme=dark] .colab-df-convert {\n",
              "      background-color: #3B4455;\n",
              "      fill: #D2E3FC;\n",
              "    }\n",
              "\n",
              "    [theme=dark] .colab-df-convert:hover {\n",
              "      background-color: #434B5C;\n",
              "      box-shadow: 0px 1px 3px 1px rgba(0, 0, 0, 0.15);\n",
              "      filter: drop-shadow(0px 1px 2px rgba(0, 0, 0, 0.3));\n",
              "      fill: #FFFFFF;\n",
              "    }\n",
              "  </style>\n",
              "\n",
              "      <script>\n",
              "        const buttonEl =\n",
              "          document.querySelector('#df-a1bd713a-d1d7-4f45-aabc-d860e525d98b button.colab-df-convert');\n",
              "        buttonEl.style.display =\n",
              "          google.colab.kernel.accessAllowed ? 'block' : 'none';\n",
              "\n",
              "        async function convertToInteractive(key) {\n",
              "          const element = document.querySelector('#df-a1bd713a-d1d7-4f45-aabc-d860e525d98b');\n",
              "          const dataTable =\n",
              "            await google.colab.kernel.invokeFunction('convertToInteractive',\n",
              "                                                     [key], {});\n",
              "          if (!dataTable) return;\n",
              "\n",
              "          const docLinkHtml = 'Like what you see? Visit the ' +\n",
              "            '<a target=\"_blank\" href=https://colab.research.google.com/notebooks/data_table.ipynb>data table notebook</a>'\n",
              "            + ' to learn more about interactive tables.';\n",
              "          element.innerHTML = '';\n",
              "          dataTable['output_type'] = 'display_data';\n",
              "          await google.colab.output.renderOutput(dataTable, element);\n",
              "          const docLink = document.createElement('div');\n",
              "          docLink.innerHTML = docLinkHtml;\n",
              "          element.appendChild(docLink);\n",
              "        }\n",
              "      </script>\n",
              "    </div>\n",
              "  </div>\n",
              "  "
            ],
            "text/plain": [
              "            Enlem     Boylam  Min_Hız  Max_Hız  Ort_Hız  Araç Sayısı  Saat  Gün\n",
              "4       28.778687  41.212463      8.0     86.0       39           38    16    2\n",
              "6       28.756714  41.058655      9.0    139.0       73          119    22    2\n",
              "11      29.031372  41.157532      3.0     95.0       41           12    22    2\n",
              "12      28.998413  41.069641      1.0     75.0       23           25     7    2\n",
              "23      29.152222  40.943298     10.0     67.0       32           28    18    2\n",
              "...           ...        ...      ...      ...      ...          ...   ...  ...\n",
              "121200  29.382935  40.794983     20.0    131.0       81           80    14    2\n",
              "121201  29.042358  40.998230      5.0     68.0       34           18     0    2\n",
              "121208  28.822632  41.031189      4.0     72.0       31           40    17    2\n",
              "121210  28.394165  41.069641     55.0    136.0       85           50    12    2\n",
              "121212  29.317017  40.954285      6.0    100.0       34           17    20    2\n",
              "\n",
              "[37253 rows x 8 columns]"
            ]
          },
          "metadata": {},
          "execution_count": 58
        }
      ]
    },
    {
      "cell_type": "markdown",
      "source": [
        "BÖYLELİKLE AYKIRI VERİLERİMİZİN TAMAMINI ÇEYREKLER AÇIKLIK IQR YÖNTEMİ İLE TESPİT ETMİŞ OLDUK VE DEĞERLERİMİZİ SİLMEK YERİNE BASKILADIK\n"
      ],
      "metadata": {
        "id": "auMT7gK3qCxz"
      }
    },
    {
      "cell_type": "code",
      "source": [
        "sns.boxplot(x=df[\"Araç Sayısı\"])"
      ],
      "metadata": {
        "colab": {
          "base_uri": "https://localhost:8080/",
          "height": 296
        },
        "id": "OiQh2pYFqC0G",
        "outputId": "583ac511-7b94-4abd-d9bb-f5acbab0ee4a"
      },
      "execution_count": null,
      "outputs": [
        {
          "output_type": "execute_result",
          "data": {
            "text/plain": [
              "<matplotlib.axes._subplots.AxesSubplot at 0x7fcdc29f2710>"
            ]
          },
          "metadata": {},
          "execution_count": 59
        },
        {
          "output_type": "display_data",
          "data": {
            "image/png": "[encoded data removed]",
            "text/plain": [
              "<Figure size 432x288 with 1 Axes>"
            ]
          },
          "metadata": {
            "needs_background": "light"
          }
        }
      ]
    },
    {
      "cell_type": "markdown",
      "source": [
        "HİÇ AYKIRI DEĞER KALMADIĞINI GÖREBİLİYORUZ"
      ],
      "metadata": {
        "id": "qFjRmJrF2jL3"
      }
    },
    {
      "cell_type": "markdown",
      "source": [
        "**KORELASYON ANALİZİ**"
      ],
      "metadata": {
        "id": "6Shf3E_ZW8PX"
      }
    },
    {
      "cell_type": "markdown",
      "source": [
        "FEATURLARIN ARAÇ SAYISIYLA İLİŞKİSİNİ BULMAK İÇİN HESAPLADIK\n"
      ],
      "metadata": {
        "id": "ffIhJb4l4d3Q"
      }
    },
    {
      "cell_type": "code",
      "execution_count": null,
      "metadata": {
        "id": "gr-AUcfgfuaZ",
        "colab": {
          "base_uri": "https://localhost:8080/"
        },
        "outputId": "cc336f91-6670-43da-a26e-a3fd49cebe59"
      },
      "outputs": [
        {
          "output_type": "execute_result",
          "data": {
            "text/plain": [
              "0.22680507178466372"
            ]
          },
          "metadata": {},
          "execution_count": 60
        }
      ],
      "source": [
        "x = df[\"Ort_Hız\"]\n",
        "y = df['Araç Sayısı']\n",
        "x.corr(y)"
      ]
    },
    {
      "cell_type": "code",
      "source": [
        "x = df[\"Max_Hız\"]\n",
        "y = df['Araç Sayısı']\n",
        "x.corr(y)"
      ],
      "metadata": {
        "colab": {
          "base_uri": "https://localhost:8080/"
        },
        "id": "0nOAV4XbXi12",
        "outputId": "61758915-0b76-4b0f-bac9-7db29696df78"
      },
      "execution_count": null,
      "outputs": [
        {
          "output_type": "execute_result",
          "data": {
            "text/plain": [
              "0.461576517743141"
            ]
          },
          "metadata": {},
          "execution_count": 68
        }
      ]
    },
    {
      "cell_type": "code",
      "source": [
        "df.corr(method='spearman')"
      ],
      "metadata": {
        "colab": {
          "base_uri": "https://localhost:8080/",
          "height": 300
        },
        "id": "htIcivi4L7Il",
        "outputId": "7bbc2c3e-2323-430d-a6ed-baed1b011b0d"
      },
      "execution_count": null,
      "outputs": [
        {
          "output_type": "execute_result",
          "data": {
            "text/html": [
              "\n",
              "  <div id=\"df-9197df4a-4c0b-4dae-8249-a603370328f7\">\n",
              "    <div class=\"colab-df-container\">\n",
              "      <div>\n",
              "<style scoped>\n",
              "    .dataframe tbody tr th:only-of-type {\n",
              "        vertical-align: middle;\n",
              "    }\n",
              "\n",
              "    .dataframe tbody tr th {\n",
              "        vertical-align: top;\n",
              "    }\n",
              "\n",
              "    .dataframe thead th {\n",
              "        text-align: right;\n",
              "    }\n",
              "</style>\n",
              "<table border=\"1\" class=\"dataframe\">\n",
              "  <thead>\n",
              "    <tr style=\"text-align: right;\">\n",
              "      <th></th>\n",
              "      <th>Enlem</th>\n",
              "      <th>Boylam</th>\n",
              "      <th>Min_Hız</th>\n",
              "      <th>Max_Hız</th>\n",
              "      <th>Ort_Hız</th>\n",
              "      <th>Araç Sayısı</th>\n",
              "      <th>Saat</th>\n",
              "      <th>Gün</th>\n",
              "    </tr>\n",
              "  </thead>\n",
              "  <tbody>\n",
              "    <tr>\n",
              "      <th>Enlem</th>\n",
              "      <td>1.000000</td>\n",
              "      <td>-0.548881</td>\n",
              "      <td>-0.176449</td>\n",
              "      <td>-0.056561</td>\n",
              "      <td>-0.142927</td>\n",
              "      <td>0.155080</td>\n",
              "      <td>0.004420</td>\n",
              "      <td>NaN</td>\n",
              "    </tr>\n",
              "    <tr>\n",
              "      <th>Boylam</th>\n",
              "      <td>-0.548881</td>\n",
              "      <td>1.000000</td>\n",
              "      <td>0.349189</td>\n",
              "      <td>0.118155</td>\n",
              "      <td>0.277603</td>\n",
              "      <td>-0.111843</td>\n",
              "      <td>-0.013294</td>\n",
              "      <td>NaN</td>\n",
              "    </tr>\n",
              "    <tr>\n",
              "      <th>Min_Hız</th>\n",
              "      <td>-0.176449</td>\n",
              "      <td>0.349189</td>\n",
              "      <td>1.000000</td>\n",
              "      <td>0.468111</td>\n",
              "      <td>0.785585</td>\n",
              "      <td>-0.170107</td>\n",
              "      <td>-0.080694</td>\n",
              "      <td>NaN</td>\n",
              "    </tr>\n",
              "    <tr>\n",
              "      <th>Max_Hız</th>\n",
              "      <td>-0.056561</td>\n",
              "      <td>0.118155</td>\n",
              "      <td>0.468111</td>\n",
              "      <td>1.000000</td>\n",
              "      <td>0.813823</td>\n",
              "      <td>0.452306</td>\n",
              "      <td>0.017869</td>\n",
              "      <td>NaN</td>\n",
              "    </tr>\n",
              "    <tr>\n",
              "      <th>Ort_Hız</th>\n",
              "      <td>-0.142927</td>\n",
              "      <td>0.277603</td>\n",
              "      <td>0.785585</td>\n",
              "      <td>0.813823</td>\n",
              "      <td>1.000000</td>\n",
              "      <td>0.181261</td>\n",
              "      <td>-0.038319</td>\n",
              "      <td>NaN</td>\n",
              "    </tr>\n",
              "    <tr>\n",
              "      <th>Araç Sayısı</th>\n",
              "      <td>0.155080</td>\n",
              "      <td>-0.111843</td>\n",
              "      <td>-0.170107</td>\n",
              "      <td>0.452306</td>\n",
              "      <td>0.181261</td>\n",
              "      <td>1.000000</td>\n",
              "      <td>0.152974</td>\n",
              "      <td>NaN</td>\n",
              "    </tr>\n",
              "    <tr>\n",
              "      <th>Saat</th>\n",
              "      <td>0.004420</td>\n",
              "      <td>-0.013294</td>\n",
              "      <td>-0.080694</td>\n",
              "      <td>0.017869</td>\n",
              "      <td>-0.038319</td>\n",
              "      <td>0.152974</td>\n",
              "      <td>1.000000</td>\n",
              "      <td>NaN</td>\n",
              "    </tr>\n",
              "    <tr>\n",
              "      <th>Gün</th>\n",
              "      <td>NaN</td>\n",
              "      <td>NaN</td>\n",
              "      <td>NaN</td>\n",
              "      <td>NaN</td>\n",
              "      <td>NaN</td>\n",
              "      <td>NaN</td>\n",
              "      <td>NaN</td>\n",
              "      <td>NaN</td>\n",
              "    </tr>\n",
              "  </tbody>\n",
              "</table>\n",
              "</div>\n",
              "      <button class=\"colab-df-convert\" onclick=\"convertToInteractive('df-9197df4a-4c0b-4dae-8249-a603370328f7')\"\n",
              "              title=\"Convert this dataframe to an interactive table.\"\n",
              "              style=\"display:none;\">\n",
              "        \n",
              "  <svg xmlns=\"http://www.w3.org/2000/svg\" height=\"24px\"viewBox=\"0 0 24 24\"\n",
              "       width=\"24px\">\n",
              "    <path d=\"M0 0h24v24H0V0z\" fill=\"none\"/>\n",
              "    <path d=\"M18.56 5.44l.94 2.06.94-2.06 2.06-.94-2.06-.94-.94-2.06-.94 2.06-2.06.94zm-11 1L8.5 8.5l.94-2.06 2.06-.94-2.06-.94L8.5 2.5l-.94 2.06-2.06.94zm10 10l.94 2.06.94-2.06 2.06-.94-2.06-.94-.94-2.06-.94 2.06-2.06.94z\"/><path d=\"M17.41 7.96l-1.37-1.37c-.4-.4-.92-.59-1.43-.59-.52 0-1.04.2-1.43.59L10.3 9.45l-7.72 7.72c-.78.78-.78 2.05 0 2.83L4 21.41c.39.39.9.59 1.41.59.51 0 1.02-.2 1.41-.59l7.78-7.78 2.81-2.81c.8-.78.8-2.07 0-2.86zM5.41 20L4 18.59l7.72-7.72 1.47 1.35L5.41 20z\"/>\n",
              "  </svg>\n",
              "      </button>\n",
              "      \n",
              "  <style>\n",
              "    .colab-df-container {\n",
              "      display:flex;\n",
              "      flex-wrap:wrap;\n",
              "      gap: 12px;\n",
              "    }\n",
              "\n",
              "    .colab-df-convert {\n",
              "      background-color: #E8F0FE;\n",
              "      border: none;\n",
              "      border-radius: 50%;\n",
              "      cursor: pointer;\n",
              "      display: none;\n",
              "      fill: #1967D2;\n",
              "      height: 32px;\n",
              "      padding: 0 0 0 0;\n",
              "      width: 32px;\n",
              "    }\n",
              "\n",
              "    .colab-df-convert:hover {\n",
              "      background-color: #E2EBFA;\n",
              "      box-shadow: 0px 1px 2px rgba(60, 64, 67, 0.3), 0px 1px 3px 1px rgba(60, 64, 67, 0.15);\n",
              "      fill: #174EA6;\n",
              "    }\n",
              "\n",
              "    [theme=dark] .colab-df-convert {\n",
              "      background-color: #3B4455;\n",
              "      fill: #D2E3FC;\n",
              "    }\n",
              "\n",
              "    [theme=dark] .colab-df-convert:hover {\n",
              "      background-color: #434B5C;\n",
              "      box-shadow: 0px 1px 3px 1px rgba(0, 0, 0, 0.15);\n",
              "      filter: drop-shadow(0px 1px 2px rgba(0, 0, 0, 0.3));\n",
              "      fill: #FFFFFF;\n",
              "    }\n",
              "  </style>\n",
              "\n",
              "      <script>\n",
              "        const buttonEl =\n",
              "          document.querySelector('#df-9197df4a-4c0b-4dae-8249-a603370328f7 button.colab-df-convert');\n",
              "        buttonEl.style.display =\n",
              "          google.colab.kernel.accessAllowed ? 'block' : 'none';\n",
              "\n",
              "        async function convertToInteractive(key) {\n",
              "          const element = document.querySelector('#df-9197df4a-4c0b-4dae-8249-a603370328f7');\n",
              "          const dataTable =\n",
              "            await google.colab.kernel.invokeFunction('convertToInteractive',\n",
              "                                                     [key], {});\n",
              "          if (!dataTable) return;\n",
              "\n",
              "          const docLinkHtml = 'Like what you see? Visit the ' +\n",
              "            '<a target=\"_blank\" href=https://colab.research.google.com/notebooks/data_table.ipynb>data table notebook</a>'\n",
              "            + ' to learn more about interactive tables.';\n",
              "          element.innerHTML = '';\n",
              "          dataTable['output_type'] = 'display_data';\n",
              "          await google.colab.output.renderOutput(dataTable, element);\n",
              "          const docLink = document.createElement('div');\n",
              "          docLink.innerHTML = docLinkHtml;\n",
              "          element.appendChild(docLink);\n",
              "        }\n",
              "      </script>\n",
              "    </div>\n",
              "  </div>\n",
              "  "
            ],
            "text/plain": [
              "                Enlem    Boylam   Min_Hız  ...  Araç Sayısı      Saat  Gün\n",
              "Enlem        1.000000 -0.548881 -0.176449  ...     0.155080  0.004420  NaN\n",
              "Boylam      -0.548881  1.000000  0.349189  ...    -0.111843 -0.013294  NaN\n",
              "Min_Hız     -0.176449  0.349189  1.000000  ...    -0.170107 -0.080694  NaN\n",
              "Max_Hız     -0.056561  0.118155  0.468111  ...     0.452306  0.017869  NaN\n",
              "Ort_Hız     -0.142927  0.277603  0.785585  ...     0.181261 -0.038319  NaN\n",
              "Araç Sayısı  0.155080 -0.111843 -0.170107  ...     1.000000  0.152974  NaN\n",
              "Saat         0.004420 -0.013294 -0.080694  ...     0.152974  1.000000  NaN\n",
              "Gün               NaN       NaN       NaN  ...          NaN       NaN  NaN\n",
              "\n",
              "[8 rows x 8 columns]"
            ]
          },
          "metadata": {},
          "execution_count": 67
        }
      ]
    },
    {
      "cell_type": "code",
      "source": [
        "x = df[\"Min_Hız\"]\n",
        "y = df['Araç Sayısı']\n",
        "x.corr(y)"
      ],
      "metadata": {
        "colab": {
          "base_uri": "https://localhost:8080/"
        },
        "id": "bkDgZwkKXnG-",
        "outputId": "ee9f85f0-4930-4f24-80f9-86bc58c94144"
      },
      "execution_count": null,
      "outputs": [
        {
          "output_type": "execute_result",
          "data": {
            "text/plain": [
              "-0.16433918827262972"
            ]
          },
          "metadata": {},
          "execution_count": 70
        }
      ]
    },
    {
      "cell_type": "markdown",
      "source": [
        "KORELASON SONUCU VERİLERİ ZAYIF GELDİ."
      ],
      "metadata": {
        "id": "B4UCEOLSYP62"
      }
    },
    {
      "cell_type": "markdown",
      "source": [
        "**ANALİZ KISMI**"
      ],
      "metadata": {
        "id": "60stkanW5wdu"
      }
    },
    {
      "cell_type": "code",
      "source": [
        "x = df.copy()"
      ],
      "metadata": {
        "id": "LX3xJ-s78BrE"
      },
      "execution_count": null,
      "outputs": []
    },
    {
      "cell_type": "markdown",
      "source": [
        "önce kümeleme yapıp sonra kendimiz knn uygulayıp trafik olup olmadığını belirteceğiz"
      ],
      "metadata": {
        "id": "iNyQbwPp8DlM"
      }
    },
    {
      "cell_type": "code",
      "source": [
        "x.info()"
      ],
      "metadata": {
        "colab": {
          "base_uri": "https://localhost:8080/"
        },
        "id": "wP17E9qO8Btp",
        "outputId": "ef15223e-e76b-44fb-9dcd-f4657cbd5dbe"
      },
      "execution_count": null,
      "outputs": [
        {
          "output_type": "stream",
          "name": "stdout",
          "text": [
            "<class 'pandas.core.frame.DataFrame'>\n",
            "Int64Index: 37253 entries, 4 to 121212\n",
            "Data columns (total 8 columns):\n",
            " #   Column       Non-Null Count  Dtype  \n",
            "---  ------       --------------  -----  \n",
            " 0   Enlem        37253 non-null  float64\n",
            " 1   Boylam       37253 non-null  float64\n",
            " 2   Min_Hız      37253 non-null  int64  \n",
            " 3   Max_Hız      37253 non-null  int64  \n",
            " 4   Ort_Hız      37253 non-null  int64  \n",
            " 5   Araç Sayısı  37253 non-null  int64  \n",
            " 6   Saat         37253 non-null  int64  \n",
            " 7   Gün          37253 non-null  int64  \n",
            "dtypes: float64(2), int64(6)\n",
            "memory usage: 2.6 MB\n"
          ]
        }
      ]
    },
    {
      "cell_type": "code",
      "source": [
        "x = x.drop(\"Enlem\",axis=1)\n",
        "x = x.drop(\"Boylam\",axis=1)\n",
        "x = x.drop(\"Saat\", axis =1)\n",
        "x = x.drop(\"Gün\",axis=1)"
      ],
      "metadata": {
        "id": "slfNqb2i8B1n"
      },
      "execution_count": null,
      "outputs": []
    },
    {
      "cell_type": "code",
      "source": [
        "from scipy import stats\n",
        "from sklearn.preprocessing import StandardScaler\n",
        "from sklearn.cluster import KMeans"
      ],
      "metadata": {
        "id": "R2XPqg08Mizn"
      },
      "execution_count": null,
      "outputs": []
    },
    {
      "cell_type": "code",
      "source": [
        "scaler = StandardScaler()\n",
        "scaled_x = scaler.fit_transform(x)"
      ],
      "metadata": {
        "id": "O83iA-fRM7tc"
      },
      "execution_count": null,
      "outputs": []
    },
    {
      "cell_type": "markdown",
      "source": [
        "Şimdi normalisayon yapmamız gerekiyor. Normalizasyon , bizim daha sağlıklı ve doğru işlemler yapmamızı sağlar"
      ],
      "metadata": {
        "id": "HAFlv0O9O2Lp"
      }
    },
    {
      "cell_type": "code",
      "source": [
        "liste =[]\n",
        "for i in range(1,5):\n",
        "  kmeans = KMeans(i)\n",
        "  kmeans.fit(x)\n",
        "  liste.append(kmeans.inertia_)"
      ],
      "metadata": {
        "id": "qoU87GvZNVL8"
      },
      "execution_count": null,
      "outputs": []
    },
    {
      "cell_type": "code",
      "source": [
        "plt.plot(range(1,5),liste)\n",
        "plt.xlabel(\"K değeri\")\n",
        "plt.ylabel(\"Liste\")\n",
        "plt.show"
      ],
      "metadata": {
        "colab": {
          "base_uri": "https://localhost:8080/",
          "height": 308
        },
        "id": "X86icpzFNbIV",
        "outputId": "1e4d3837-7722-4dd2-c5ee-86cc9a150301"
      },
      "execution_count": null,
      "outputs": [
        {
          "output_type": "execute_result",
          "data": {
            "text/plain": [
              "<function matplotlib.pyplot.show>"
            ]
          },
          "metadata": {},
          "execution_count": 284
        },
        {
          "output_type": "display_data",
          "data": {
            "image/png": "[encoded data removed]",
            "text/plain": [
              "<Figure size 432x288 with 1 Axes>"
            ]
          },
          "metadata": {
            "needs_background": "light"
          }
        }
      ]
    },
    {
      "cell_type": "markdown",
      "source": [
        "K=2 ALALIM"
      ],
      "metadata": {
        "id": "ZfysrLfnPF6W"
      }
    },
    {
      "cell_type": "code",
      "source": [
        "kmeans=KMeans(2)\n",
        "kmeans.fit(scaled_x)"
      ],
      "metadata": {
        "colab": {
          "base_uri": "https://localhost:8080/"
        },
        "id": "qkr8DueENbMg",
        "outputId": "e11a8ec0-a507-45fe-8d3f-cccae8144a3f"
      },
      "execution_count": null,
      "outputs": [
        {
          "output_type": "execute_result",
          "data": {
            "text/plain": [
              "KMeans(n_clusters=2)"
            ]
          },
          "metadata": {},
          "execution_count": 285
        }
      ]
    },
    {
      "cell_type": "code",
      "source": [
        "#x datamıza göre modeli tahminliyoruz\n",
        "cluster =x.copy()\n",
        "cluster[\"cluster_pred\"]= kmeans.fit_predict(scaled_x)\n",
        "cluster"
      ],
      "metadata": {
        "colab": {
          "base_uri": "https://localhost:8080/",
          "height": 424
        },
        "id": "WatXhhEyNbQE",
        "outputId": "be8f837e-fa07-45a5-8078-0ca2a82485b6"
      },
      "execution_count": null,
      "outputs": [
        {
          "output_type": "execute_result",
          "data": {
            "text/html": [
              "\n",
              "  <div id=\"df-baea0f5f-3e2e-4ab7-bae9-8c2f855dbfe8\">\n",
              "    <div class=\"colab-df-container\">\n",
              "      <div>\n",
              "<style scoped>\n",
              "    .dataframe tbody tr th:only-of-type {\n",
              "        vertical-align: middle;\n",
              "    }\n",
              "\n",
              "    .dataframe tbody tr th {\n",
              "        vertical-align: top;\n",
              "    }\n",
              "\n",
              "    .dataframe thead th {\n",
              "        text-align: right;\n",
              "    }\n",
              "</style>\n",
              "<table border=\"1\" class=\"dataframe\">\n",
              "  <thead>\n",
              "    <tr style=\"text-align: right;\">\n",
              "      <th></th>\n",
              "      <th>Min_Hız</th>\n",
              "      <th>Max_Hız</th>\n",
              "      <th>Ort_Hız</th>\n",
              "      <th>Araç Sayısı</th>\n",
              "      <th>cluster_pred</th>\n",
              "    </tr>\n",
              "  </thead>\n",
              "  <tbody>\n",
              "    <tr>\n",
              "      <th>4</th>\n",
              "      <td>8</td>\n",
              "      <td>86</td>\n",
              "      <td>39</td>\n",
              "      <td>38</td>\n",
              "      <td>0</td>\n",
              "    </tr>\n",
              "    <tr>\n",
              "      <th>6</th>\n",
              "      <td>9</td>\n",
              "      <td>139</td>\n",
              "      <td>73</td>\n",
              "      <td>142</td>\n",
              "      <td>1</td>\n",
              "    </tr>\n",
              "    <tr>\n",
              "      <th>11</th>\n",
              "      <td>3</td>\n",
              "      <td>95</td>\n",
              "      <td>41</td>\n",
              "      <td>12</td>\n",
              "      <td>0</td>\n",
              "    </tr>\n",
              "    <tr>\n",
              "      <th>12</th>\n",
              "      <td>1</td>\n",
              "      <td>75</td>\n",
              "      <td>23</td>\n",
              "      <td>25</td>\n",
              "      <td>0</td>\n",
              "    </tr>\n",
              "    <tr>\n",
              "      <th>23</th>\n",
              "      <td>10</td>\n",
              "      <td>67</td>\n",
              "      <td>32</td>\n",
              "      <td>28</td>\n",
              "      <td>0</td>\n",
              "    </tr>\n",
              "    <tr>\n",
              "      <th>...</th>\n",
              "      <td>...</td>\n",
              "      <td>...</td>\n",
              "      <td>...</td>\n",
              "      <td>...</td>\n",
              "      <td>...</td>\n",
              "    </tr>\n",
              "    <tr>\n",
              "      <th>121200</th>\n",
              "      <td>20</td>\n",
              "      <td>131</td>\n",
              "      <td>81</td>\n",
              "      <td>80</td>\n",
              "      <td>1</td>\n",
              "    </tr>\n",
              "    <tr>\n",
              "      <th>121201</th>\n",
              "      <td>5</td>\n",
              "      <td>68</td>\n",
              "      <td>34</td>\n",
              "      <td>18</td>\n",
              "      <td>0</td>\n",
              "    </tr>\n",
              "    <tr>\n",
              "      <th>121208</th>\n",
              "      <td>4</td>\n",
              "      <td>72</td>\n",
              "      <td>31</td>\n",
              "      <td>40</td>\n",
              "      <td>0</td>\n",
              "    </tr>\n",
              "    <tr>\n",
              "      <th>121210</th>\n",
              "      <td>55</td>\n",
              "      <td>136</td>\n",
              "      <td>85</td>\n",
              "      <td>50</td>\n",
              "      <td>1</td>\n",
              "    </tr>\n",
              "    <tr>\n",
              "      <th>121212</th>\n",
              "      <td>6</td>\n",
              "      <td>100</td>\n",
              "      <td>34</td>\n",
              "      <td>17</td>\n",
              "      <td>0</td>\n",
              "    </tr>\n",
              "  </tbody>\n",
              "</table>\n",
              "<p>37253 rows × 5 columns</p>\n",
              "</div>\n",
              "      <button class=\"colab-df-convert\" onclick=\"convertToInteractive('df-baea0f5f-3e2e-4ab7-bae9-8c2f855dbfe8')\"\n",
              "              title=\"Convert this dataframe to an interactive table.\"\n",
              "              style=\"display:none;\">\n",
              "        \n",
              "  <svg xmlns=\"http://www.w3.org/2000/svg\" height=\"24px\"viewBox=\"0 0 24 24\"\n",
              "       width=\"24px\">\n",
              "    <path d=\"M0 0h24v24H0V0z\" fill=\"none\"/>\n",
              "    <path d=\"M18.56 5.44l.94 2.06.94-2.06 2.06-.94-2.06-.94-.94-2.06-.94 2.06-2.06.94zm-11 1L8.5 8.5l.94-2.06 2.06-.94-2.06-.94L8.5 2.5l-.94 2.06-2.06.94zm10 10l.94 2.06.94-2.06 2.06-.94-2.06-.94-.94-2.06-.94 2.06-2.06.94z\"/><path d=\"M17.41 7.96l-1.37-1.37c-.4-.4-.92-.59-1.43-.59-.52 0-1.04.2-1.43.59L10.3 9.45l-7.72 7.72c-.78.78-.78 2.05 0 2.83L4 21.41c.39.39.9.59 1.41.59.51 0 1.02-.2 1.41-.59l7.78-7.78 2.81-2.81c.8-.78.8-2.07 0-2.86zM5.41 20L4 18.59l7.72-7.72 1.47 1.35L5.41 20z\"/>\n",
              "  </svg>\n",
              "      </button>\n",
              "      \n",
              "  <style>\n",
              "    .colab-df-container {\n",
              "      display:flex;\n",
              "      flex-wrap:wrap;\n",
              "      gap: 12px;\n",
              "    }\n",
              "\n",
              "    .colab-df-convert {\n",
              "      background-color: #E8F0FE;\n",
              "      border: none;\n",
              "      border-radius: 50%;\n",
              "      cursor: pointer;\n",
              "      display: none;\n",
              "      fill: #1967D2;\n",
              "      height: 32px;\n",
              "      padding: 0 0 0 0;\n",
              "      width: 32px;\n",
              "    }\n",
              "\n",
              "    .colab-df-convert:hover {\n",
              "      background-color: #E2EBFA;\n",
              "      box-shadow: 0px 1px 2px rgba(60, 64, 67, 0.3), 0px 1px 3px 1px rgba(60, 64, 67, 0.15);\n",
              "      fill: #174EA6;\n",
              "    }\n",
              "\n",
              "    [theme=dark] .colab-df-convert {\n",
              "      background-color: #3B4455;\n",
              "      fill: #D2E3FC;\n",
              "    }\n",
              "\n",
              "    [theme=dark] .colab-df-convert:hover {\n",
              "      background-color: #434B5C;\n",
              "      box-shadow: 0px 1px 3px 1px rgba(0, 0, 0, 0.15);\n",
              "      filter: drop-shadow(0px 1px 2px rgba(0, 0, 0, 0.3));\n",
              "      fill: #FFFFFF;\n",
              "    }\n",
              "  </style>\n",
              "\n",
              "      <script>\n",
              "        const buttonEl =\n",
              "          document.querySelector('#df-baea0f5f-3e2e-4ab7-bae9-8c2f855dbfe8 button.colab-df-convert');\n",
              "        buttonEl.style.display =\n",
              "          google.colab.kernel.accessAllowed ? 'block' : 'none';\n",
              "\n",
              "        async function convertToInteractive(key) {\n",
              "          const element = document.querySelector('#df-baea0f5f-3e2e-4ab7-bae9-8c2f855dbfe8');\n",
              "          const dataTable =\n",
              "            await google.colab.kernel.invokeFunction('convertToInteractive',\n",
              "                                                     [key], {});\n",
              "          if (!dataTable) return;\n",
              "\n",
              "          const docLinkHtml = 'Like what you see? Visit the ' +\n",
              "            '<a target=\"_blank\" href=https://colab.research.google.com/notebooks/data_table.ipynb>data table notebook</a>'\n",
              "            + ' to learn more about interactive tables.';\n",
              "          element.innerHTML = '';\n",
              "          dataTable['output_type'] = 'display_data';\n",
              "          await google.colab.output.renderOutput(dataTable, element);\n",
              "          const docLink = document.createElement('div');\n",
              "          docLink.innerHTML = docLinkHtml;\n",
              "          element.appendChild(docLink);\n",
              "        }\n",
              "      </script>\n",
              "    </div>\n",
              "  </div>\n",
              "  "
            ],
            "text/plain": [
              "        Min_Hız  Max_Hız  Ort_Hız  Araç Sayısı  cluster_pred\n",
              "4             8       86       39           38             0\n",
              "6             9      139       73          142             1\n",
              "11            3       95       41           12             0\n",
              "12            1       75       23           25             0\n",
              "23           10       67       32           28             0\n",
              "...         ...      ...      ...          ...           ...\n",
              "121200       20      131       81           80             1\n",
              "121201        5       68       34           18             0\n",
              "121208        4       72       31           40             0\n",
              "121210       55      136       85           50             1\n",
              "121212        6      100       34           17             0\n",
              "\n",
              "[37253 rows x 5 columns]"
            ]
          },
          "metadata": {},
          "execution_count": 286
        }
      ]
    },
    {
      "cell_type": "code",
      "source": [
        "cluster.head(40)"
      ],
      "metadata": {
        "colab": {
          "base_uri": "https://localhost:8080/",
          "height": 1000
        },
        "id": "Pw7EaPyebQ-k",
        "outputId": "914b5074-3c07-42e1-fdbe-92dfe835cd5a"
      },
      "execution_count": null,
      "outputs": [
        {
          "output_type": "execute_result",
          "data": {
            "text/html": [
              "\n",
              "  <div id=\"df-01f47a12-6e6c-4d92-811a-400cdee071e7\">\n",
              "    <div class=\"colab-df-container\">\n",
              "      <div>\n",
              "<style scoped>\n",
              "    .dataframe tbody tr th:only-of-type {\n",
              "        vertical-align: middle;\n",
              "    }\n",
              "\n",
              "    .dataframe tbody tr th {\n",
              "        vertical-align: top;\n",
              "    }\n",
              "\n",
              "    .dataframe thead th {\n",
              "        text-align: right;\n",
              "    }\n",
              "</style>\n",
              "<table border=\"1\" class=\"dataframe\">\n",
              "  <thead>\n",
              "    <tr style=\"text-align: right;\">\n",
              "      <th></th>\n",
              "      <th>Min_Hız</th>\n",
              "      <th>Max_Hız</th>\n",
              "      <th>Ort_Hız</th>\n",
              "      <th>Araç Sayısı</th>\n",
              "      <th>cluster_pred</th>\n",
              "    </tr>\n",
              "  </thead>\n",
              "  <tbody>\n",
              "    <tr>\n",
              "      <th>4</th>\n",
              "      <td>8</td>\n",
              "      <td>86</td>\n",
              "      <td>39</td>\n",
              "      <td>38</td>\n",
              "      <td>0</td>\n",
              "    </tr>\n",
              "    <tr>\n",
              "      <th>6</th>\n",
              "      <td>9</td>\n",
              "      <td>139</td>\n",
              "      <td>73</td>\n",
              "      <td>142</td>\n",
              "      <td>1</td>\n",
              "    </tr>\n",
              "    <tr>\n",
              "      <th>11</th>\n",
              "      <td>3</td>\n",
              "      <td>95</td>\n",
              "      <td>41</td>\n",
              "      <td>12</td>\n",
              "      <td>0</td>\n",
              "    </tr>\n",
              "    <tr>\n",
              "      <th>12</th>\n",
              "      <td>1</td>\n",
              "      <td>75</td>\n",
              "      <td>23</td>\n",
              "      <td>25</td>\n",
              "      <td>0</td>\n",
              "    </tr>\n",
              "    <tr>\n",
              "      <th>23</th>\n",
              "      <td>10</td>\n",
              "      <td>67</td>\n",
              "      <td>32</td>\n",
              "      <td>28</td>\n",
              "      <td>0</td>\n",
              "    </tr>\n",
              "    <tr>\n",
              "      <th>26</th>\n",
              "      <td>3</td>\n",
              "      <td>52</td>\n",
              "      <td>26</td>\n",
              "      <td>26</td>\n",
              "      <td>0</td>\n",
              "    </tr>\n",
              "    <tr>\n",
              "      <th>27</th>\n",
              "      <td>13</td>\n",
              "      <td>119</td>\n",
              "      <td>50</td>\n",
              "      <td>28</td>\n",
              "      <td>0</td>\n",
              "    </tr>\n",
              "    <tr>\n",
              "      <th>33</th>\n",
              "      <td>5</td>\n",
              "      <td>120</td>\n",
              "      <td>61</td>\n",
              "      <td>46</td>\n",
              "      <td>0</td>\n",
              "    </tr>\n",
              "    <tr>\n",
              "      <th>37</th>\n",
              "      <td>6</td>\n",
              "      <td>52</td>\n",
              "      <td>24</td>\n",
              "      <td>20</td>\n",
              "      <td>0</td>\n",
              "    </tr>\n",
              "    <tr>\n",
              "      <th>39</th>\n",
              "      <td>55</td>\n",
              "      <td>169</td>\n",
              "      <td>89</td>\n",
              "      <td>86</td>\n",
              "      <td>1</td>\n",
              "    </tr>\n",
              "    <tr>\n",
              "      <th>45</th>\n",
              "      <td>9</td>\n",
              "      <td>80</td>\n",
              "      <td>50</td>\n",
              "      <td>32</td>\n",
              "      <td>0</td>\n",
              "    </tr>\n",
              "    <tr>\n",
              "      <th>50</th>\n",
              "      <td>14</td>\n",
              "      <td>133</td>\n",
              "      <td>67</td>\n",
              "      <td>76</td>\n",
              "      <td>1</td>\n",
              "    </tr>\n",
              "    <tr>\n",
              "      <th>51</th>\n",
              "      <td>7</td>\n",
              "      <td>99</td>\n",
              "      <td>48</td>\n",
              "      <td>24</td>\n",
              "      <td>0</td>\n",
              "    </tr>\n",
              "    <tr>\n",
              "      <th>53</th>\n",
              "      <td>6</td>\n",
              "      <td>58</td>\n",
              "      <td>24</td>\n",
              "      <td>42</td>\n",
              "      <td>0</td>\n",
              "    </tr>\n",
              "    <tr>\n",
              "      <th>56</th>\n",
              "      <td>45</td>\n",
              "      <td>147</td>\n",
              "      <td>88</td>\n",
              "      <td>19</td>\n",
              "      <td>1</td>\n",
              "    </tr>\n",
              "    <tr>\n",
              "      <th>57</th>\n",
              "      <td>18</td>\n",
              "      <td>117</td>\n",
              "      <td>70</td>\n",
              "      <td>42</td>\n",
              "      <td>1</td>\n",
              "    </tr>\n",
              "    <tr>\n",
              "      <th>67</th>\n",
              "      <td>3</td>\n",
              "      <td>67</td>\n",
              "      <td>24</td>\n",
              "      <td>26</td>\n",
              "      <td>0</td>\n",
              "    </tr>\n",
              "    <tr>\n",
              "      <th>69</th>\n",
              "      <td>11</td>\n",
              "      <td>88</td>\n",
              "      <td>58</td>\n",
              "      <td>20</td>\n",
              "      <td>0</td>\n",
              "    </tr>\n",
              "    <tr>\n",
              "      <th>73</th>\n",
              "      <td>15</td>\n",
              "      <td>70</td>\n",
              "      <td>53</td>\n",
              "      <td>31</td>\n",
              "      <td>0</td>\n",
              "    </tr>\n",
              "    <tr>\n",
              "      <th>78</th>\n",
              "      <td>38</td>\n",
              "      <td>78</td>\n",
              "      <td>55</td>\n",
              "      <td>13</td>\n",
              "      <td>0</td>\n",
              "    </tr>\n",
              "    <tr>\n",
              "      <th>79</th>\n",
              "      <td>40</td>\n",
              "      <td>119</td>\n",
              "      <td>84</td>\n",
              "      <td>18</td>\n",
              "      <td>1</td>\n",
              "    </tr>\n",
              "    <tr>\n",
              "      <th>80</th>\n",
              "      <td>7</td>\n",
              "      <td>138</td>\n",
              "      <td>35</td>\n",
              "      <td>36</td>\n",
              "      <td>0</td>\n",
              "    </tr>\n",
              "    <tr>\n",
              "      <th>83</th>\n",
              "      <td>19</td>\n",
              "      <td>68</td>\n",
              "      <td>47</td>\n",
              "      <td>14</td>\n",
              "      <td>0</td>\n",
              "    </tr>\n",
              "    <tr>\n",
              "      <th>92</th>\n",
              "      <td>49</td>\n",
              "      <td>151</td>\n",
              "      <td>82</td>\n",
              "      <td>74</td>\n",
              "      <td>1</td>\n",
              "    </tr>\n",
              "    <tr>\n",
              "      <th>94</th>\n",
              "      <td>6</td>\n",
              "      <td>59</td>\n",
              "      <td>32</td>\n",
              "      <td>24</td>\n",
              "      <td>0</td>\n",
              "    </tr>\n",
              "    <tr>\n",
              "      <th>97</th>\n",
              "      <td>6</td>\n",
              "      <td>75</td>\n",
              "      <td>33</td>\n",
              "      <td>23</td>\n",
              "      <td>0</td>\n",
              "    </tr>\n",
              "    <tr>\n",
              "      <th>98</th>\n",
              "      <td>6</td>\n",
              "      <td>55</td>\n",
              "      <td>26</td>\n",
              "      <td>30</td>\n",
              "      <td>0</td>\n",
              "    </tr>\n",
              "    <tr>\n",
              "      <th>99</th>\n",
              "      <td>7</td>\n",
              "      <td>57</td>\n",
              "      <td>34</td>\n",
              "      <td>28</td>\n",
              "      <td>0</td>\n",
              "    </tr>\n",
              "    <tr>\n",
              "      <th>107</th>\n",
              "      <td>71</td>\n",
              "      <td>136</td>\n",
              "      <td>88</td>\n",
              "      <td>25</td>\n",
              "      <td>1</td>\n",
              "    </tr>\n",
              "    <tr>\n",
              "      <th>109</th>\n",
              "      <td>6</td>\n",
              "      <td>79</td>\n",
              "      <td>39</td>\n",
              "      <td>16</td>\n",
              "      <td>0</td>\n",
              "    </tr>\n",
              "    <tr>\n",
              "      <th>114</th>\n",
              "      <td>69</td>\n",
              "      <td>111</td>\n",
              "      <td>77</td>\n",
              "      <td>20</td>\n",
              "      <td>1</td>\n",
              "    </tr>\n",
              "    <tr>\n",
              "      <th>115</th>\n",
              "      <td>10</td>\n",
              "      <td>153</td>\n",
              "      <td>56</td>\n",
              "      <td>44</td>\n",
              "      <td>1</td>\n",
              "    </tr>\n",
              "    <tr>\n",
              "      <th>117</th>\n",
              "      <td>24</td>\n",
              "      <td>93</td>\n",
              "      <td>46</td>\n",
              "      <td>30</td>\n",
              "      <td>0</td>\n",
              "    </tr>\n",
              "    <tr>\n",
              "      <th>126</th>\n",
              "      <td>54</td>\n",
              "      <td>133</td>\n",
              "      <td>83</td>\n",
              "      <td>36</td>\n",
              "      <td>1</td>\n",
              "    </tr>\n",
              "    <tr>\n",
              "      <th>132</th>\n",
              "      <td>1</td>\n",
              "      <td>52</td>\n",
              "      <td>23</td>\n",
              "      <td>41</td>\n",
              "      <td>0</td>\n",
              "    </tr>\n",
              "    <tr>\n",
              "      <th>133</th>\n",
              "      <td>54</td>\n",
              "      <td>117</td>\n",
              "      <td>74</td>\n",
              "      <td>12</td>\n",
              "      <td>1</td>\n",
              "    </tr>\n",
              "    <tr>\n",
              "      <th>139</th>\n",
              "      <td>52</td>\n",
              "      <td>144</td>\n",
              "      <td>89</td>\n",
              "      <td>40</td>\n",
              "      <td>1</td>\n",
              "    </tr>\n",
              "    <tr>\n",
              "      <th>141</th>\n",
              "      <td>22</td>\n",
              "      <td>136</td>\n",
              "      <td>72</td>\n",
              "      <td>20</td>\n",
              "      <td>1</td>\n",
              "    </tr>\n",
              "    <tr>\n",
              "      <th>144</th>\n",
              "      <td>12</td>\n",
              "      <td>115</td>\n",
              "      <td>69</td>\n",
              "      <td>11</td>\n",
              "      <td>0</td>\n",
              "    </tr>\n",
              "    <tr>\n",
              "      <th>146</th>\n",
              "      <td>8</td>\n",
              "      <td>77</td>\n",
              "      <td>44</td>\n",
              "      <td>26</td>\n",
              "      <td>0</td>\n",
              "    </tr>\n",
              "  </tbody>\n",
              "</table>\n",
              "</div>\n",
              "      <button class=\"colab-df-convert\" onclick=\"convertToInteractive('df-01f47a12-6e6c-4d92-811a-400cdee071e7')\"\n",
              "              title=\"Convert this dataframe to an interactive table.\"\n",
              "              style=\"display:none;\">\n",
              "        \n",
              "  <svg xmlns=\"http://www.w3.org/2000/svg\" height=\"24px\"viewBox=\"0 0 24 24\"\n",
              "       width=\"24px\">\n",
              "    <path d=\"M0 0h24v24H0V0z\" fill=\"none\"/>\n",
              "    <path d=\"M18.56 5.44l.94 2.06.94-2.06 2.06-.94-2.06-.94-.94-2.06-.94 2.06-2.06.94zm-11 1L8.5 8.5l.94-2.06 2.06-.94-2.06-.94L8.5 2.5l-.94 2.06-2.06.94zm10 10l.94 2.06.94-2.06 2.06-.94-2.06-.94-.94-2.06-.94 2.06-2.06.94z\"/><path d=\"M17.41 7.96l-1.37-1.37c-.4-.4-.92-.59-1.43-.59-.52 0-1.04.2-1.43.59L10.3 9.45l-7.72 7.72c-.78.78-.78 2.05 0 2.83L4 21.41c.39.39.9.59 1.41.59.51 0 1.02-.2 1.41-.59l7.78-7.78 2.81-2.81c.8-.78.8-2.07 0-2.86zM5.41 20L4 18.59l7.72-7.72 1.47 1.35L5.41 20z\"/>\n",
              "  </svg>\n",
              "      </button>\n",
              "      \n",
              "  <style>\n",
              "    .colab-df-container {\n",
              "      display:flex;\n",
              "      flex-wrap:wrap;\n",
              "      gap: 12px;\n",
              "    }\n",
              "\n",
              "    .colab-df-convert {\n",
              "      background-color: #E8F0FE;\n",
              "      border: none;\n",
              "      border-radius: 50%;\n",
              "      cursor: pointer;\n",
              "      display: none;\n",
              "      fill: #1967D2;\n",
              "      height: 32px;\n",
              "      padding: 0 0 0 0;\n",
              "      width: 32px;\n",
              "    }\n",
              "\n",
              "    .colab-df-convert:hover {\n",
              "      background-color: #E2EBFA;\n",
              "      box-shadow: 0px 1px 2px rgba(60, 64, 67, 0.3), 0px 1px 3px 1px rgba(60, 64, 67, 0.15);\n",
              "      fill: #174EA6;\n",
              "    }\n",
              "\n",
              "    [theme=dark] .colab-df-convert {\n",
              "      background-color: #3B4455;\n",
              "      fill: #D2E3FC;\n",
              "    }\n",
              "\n",
              "    [theme=dark] .colab-df-convert:hover {\n",
              "      background-color: #434B5C;\n",
              "      box-shadow: 0px 1px 3px 1px rgba(0, 0, 0, 0.15);\n",
              "      filter: drop-shadow(0px 1px 2px rgba(0, 0, 0, 0.3));\n",
              "      fill: #FFFFFF;\n",
              "    }\n",
              "  </style>\n",
              "\n",
              "      <script>\n",
              "        const buttonEl =\n",
              "          document.querySelector('#df-01f47a12-6e6c-4d92-811a-400cdee071e7 button.colab-df-convert');\n",
              "        buttonEl.style.display =\n",
              "          google.colab.kernel.accessAllowed ? 'block' : 'none';\n",
              "\n",
              "        async function convertToInteractive(key) {\n",
              "          const element = document.querySelector('#df-01f47a12-6e6c-4d92-811a-400cdee071e7');\n",
              "          const dataTable =\n",
              "            await google.colab.kernel.invokeFunction('convertToInteractive',\n",
              "                                                     [key], {});\n",
              "          if (!dataTable) return;\n",
              "\n",
              "          const docLinkHtml = 'Like what you see? Visit the ' +\n",
              "            '<a target=\"_blank\" href=https://colab.research.google.com/notebooks/data_table.ipynb>data table notebook</a>'\n",
              "            + ' to learn more about interactive tables.';\n",
              "          element.innerHTML = '';\n",
              "          dataTable['output_type'] = 'display_data';\n",
              "          await google.colab.output.renderOutput(dataTable, element);\n",
              "          const docLink = document.createElement('div');\n",
              "          docLink.innerHTML = docLinkHtml;\n",
              "          element.appendChild(docLink);\n",
              "        }\n",
              "      </script>\n",
              "    </div>\n",
              "  </div>\n",
              "  "
            ],
            "text/plain": [
              "     Min_Hız  Max_Hız  Ort_Hız  Araç Sayısı  cluster_pred\n",
              "4          8       86       39           38             0\n",
              "6          9      139       73          142             1\n",
              "11         3       95       41           12             0\n",
              "12         1       75       23           25             0\n",
              "23        10       67       32           28             0\n",
              "26         3       52       26           26             0\n",
              "27        13      119       50           28             0\n",
              "33         5      120       61           46             0\n",
              "37         6       52       24           20             0\n",
              "39        55      169       89           86             1\n",
              "45         9       80       50           32             0\n",
              "50        14      133       67           76             1\n",
              "51         7       99       48           24             0\n",
              "53         6       58       24           42             0\n",
              "56        45      147       88           19             1\n",
              "57        18      117       70           42             1\n",
              "67         3       67       24           26             0\n",
              "69        11       88       58           20             0\n",
              "73        15       70       53           31             0\n",
              "78        38       78       55           13             0\n",
              "79        40      119       84           18             1\n",
              "80         7      138       35           36             0\n",
              "83        19       68       47           14             0\n",
              "92        49      151       82           74             1\n",
              "94         6       59       32           24             0\n",
              "97         6       75       33           23             0\n",
              "98         6       55       26           30             0\n",
              "99         7       57       34           28             0\n",
              "107       71      136       88           25             1\n",
              "109        6       79       39           16             0\n",
              "114       69      111       77           20             1\n",
              "115       10      153       56           44             1\n",
              "117       24       93       46           30             0\n",
              "126       54      133       83           36             1\n",
              "132        1       52       23           41             0\n",
              "133       54      117       74           12             1\n",
              "139       52      144       89           40             1\n",
              "141       22      136       72           20             1\n",
              "144       12      115       69           11             0\n",
              "146        8       77       44           26             0"
            ]
          },
          "metadata": {},
          "execution_count": 287
        }
      ]
    },
    {
      "cell_type": "code",
      "source": [
        "cluster"
      ],
      "metadata": {
        "colab": {
          "base_uri": "https://localhost:8080/",
          "height": 424
        },
        "id": "ogeUvjT7eCf1",
        "outputId": "3e5b972e-7bfc-4b0e-96c8-8f94530f9231"
      },
      "execution_count": null,
      "outputs": [
        {
          "output_type": "execute_result",
          "data": {
            "text/html": [
              "\n",
              "  <div id=\"df-ca9f3f84-ab49-4231-b623-d7582f21907b\">\n",
              "    <div class=\"colab-df-container\">\n",
              "      <div>\n",
              "<style scoped>\n",
              "    .dataframe tbody tr th:only-of-type {\n",
              "        vertical-align: middle;\n",
              "    }\n",
              "\n",
              "    .dataframe tbody tr th {\n",
              "        vertical-align: top;\n",
              "    }\n",
              "\n",
              "    .dataframe thead th {\n",
              "        text-align: right;\n",
              "    }\n",
              "</style>\n",
              "<table border=\"1\" class=\"dataframe\">\n",
              "  <thead>\n",
              "    <tr style=\"text-align: right;\">\n",
              "      <th></th>\n",
              "      <th>Min_Hız</th>\n",
              "      <th>Max_Hız</th>\n",
              "      <th>Ort_Hız</th>\n",
              "      <th>Araç Sayısı</th>\n",
              "      <th>cluster_pred</th>\n",
              "    </tr>\n",
              "  </thead>\n",
              "  <tbody>\n",
              "    <tr>\n",
              "      <th>4</th>\n",
              "      <td>8</td>\n",
              "      <td>86</td>\n",
              "      <td>39</td>\n",
              "      <td>38</td>\n",
              "      <td>0</td>\n",
              "    </tr>\n",
              "    <tr>\n",
              "      <th>6</th>\n",
              "      <td>9</td>\n",
              "      <td>139</td>\n",
              "      <td>73</td>\n",
              "      <td>142</td>\n",
              "      <td>1</td>\n",
              "    </tr>\n",
              "    <tr>\n",
              "      <th>11</th>\n",
              "      <td>3</td>\n",
              "      <td>95</td>\n",
              "      <td>41</td>\n",
              "      <td>12</td>\n",
              "      <td>0</td>\n",
              "    </tr>\n",
              "    <tr>\n",
              "      <th>12</th>\n",
              "      <td>1</td>\n",
              "      <td>75</td>\n",
              "      <td>23</td>\n",
              "      <td>25</td>\n",
              "      <td>0</td>\n",
              "    </tr>\n",
              "    <tr>\n",
              "      <th>23</th>\n",
              "      <td>10</td>\n",
              "      <td>67</td>\n",
              "      <td>32</td>\n",
              "      <td>28</td>\n",
              "      <td>0</td>\n",
              "    </tr>\n",
              "    <tr>\n",
              "      <th>...</th>\n",
              "      <td>...</td>\n",
              "      <td>...</td>\n",
              "      <td>...</td>\n",
              "      <td>...</td>\n",
              "      <td>...</td>\n",
              "    </tr>\n",
              "    <tr>\n",
              "      <th>121200</th>\n",
              "      <td>20</td>\n",
              "      <td>131</td>\n",
              "      <td>81</td>\n",
              "      <td>80</td>\n",
              "      <td>1</td>\n",
              "    </tr>\n",
              "    <tr>\n",
              "      <th>121201</th>\n",
              "      <td>5</td>\n",
              "      <td>68</td>\n",
              "      <td>34</td>\n",
              "      <td>18</td>\n",
              "      <td>0</td>\n",
              "    </tr>\n",
              "    <tr>\n",
              "      <th>121208</th>\n",
              "      <td>4</td>\n",
              "      <td>72</td>\n",
              "      <td>31</td>\n",
              "      <td>40</td>\n",
              "      <td>0</td>\n",
              "    </tr>\n",
              "    <tr>\n",
              "      <th>121210</th>\n",
              "      <td>55</td>\n",
              "      <td>136</td>\n",
              "      <td>85</td>\n",
              "      <td>50</td>\n",
              "      <td>1</td>\n",
              "    </tr>\n",
              "    <tr>\n",
              "      <th>121212</th>\n",
              "      <td>6</td>\n",
              "      <td>100</td>\n",
              "      <td>34</td>\n",
              "      <td>17</td>\n",
              "      <td>0</td>\n",
              "    </tr>\n",
              "  </tbody>\n",
              "</table>\n",
              "<p>37253 rows × 5 columns</p>\n",
              "</div>\n",
              "      <button class=\"colab-df-convert\" onclick=\"convertToInteractive('df-ca9f3f84-ab49-4231-b623-d7582f21907b')\"\n",
              "              title=\"Convert this dataframe to an interactive table.\"\n",
              "              style=\"display:none;\">\n",
              "        \n",
              "  <svg xmlns=\"http://www.w3.org/2000/svg\" height=\"24px\"viewBox=\"0 0 24 24\"\n",
              "       width=\"24px\">\n",
              "    <path d=\"M0 0h24v24H0V0z\" fill=\"none\"/>\n",
              "    <path d=\"M18.56 5.44l.94 2.06.94-2.06 2.06-.94-2.06-.94-.94-2.06-.94 2.06-2.06.94zm-11 1L8.5 8.5l.94-2.06 2.06-.94-2.06-.94L8.5 2.5l-.94 2.06-2.06.94zm10 10l.94 2.06.94-2.06 2.06-.94-2.06-.94-.94-2.06-.94 2.06-2.06.94z\"/><path d=\"M17.41 7.96l-1.37-1.37c-.4-.4-.92-.59-1.43-.59-.52 0-1.04.2-1.43.59L10.3 9.45l-7.72 7.72c-.78.78-.78 2.05 0 2.83L4 21.41c.39.39.9.59 1.41.59.51 0 1.02-.2 1.41-.59l7.78-7.78 2.81-2.81c.8-.78.8-2.07 0-2.86zM5.41 20L4 18.59l7.72-7.72 1.47 1.35L5.41 20z\"/>\n",
              "  </svg>\n",
              "      </button>\n",
              "      \n",
              "  <style>\n",
              "    .colab-df-container {\n",
              "      display:flex;\n",
              "      flex-wrap:wrap;\n",
              "      gap: 12px;\n",
              "    }\n",
              "\n",
              "    .colab-df-convert {\n",
              "      background-color: #E8F0FE;\n",
              "      border: none;\n",
              "      border-radius: 50%;\n",
              "      cursor: pointer;\n",
              "      display: none;\n",
              "      fill: #1967D2;\n",
              "      height: 32px;\n",
              "      padding: 0 0 0 0;\n",
              "      width: 32px;\n",
              "    }\n",
              "\n",
              "    .colab-df-convert:hover {\n",
              "      background-color: #E2EBFA;\n",
              "      box-shadow: 0px 1px 2px rgba(60, 64, 67, 0.3), 0px 1px 3px 1px rgba(60, 64, 67, 0.15);\n",
              "      fill: #174EA6;\n",
              "    }\n",
              "\n",
              "    [theme=dark] .colab-df-convert {\n",
              "      background-color: #3B4455;\n",
              "      fill: #D2E3FC;\n",
              "    }\n",
              "\n",
              "    [theme=dark] .colab-df-convert:hover {\n",
              "      background-color: #434B5C;\n",
              "      box-shadow: 0px 1px 3px 1px rgba(0, 0, 0, 0.15);\n",
              "      filter: drop-shadow(0px 1px 2px rgba(0, 0, 0, 0.3));\n",
              "      fill: #FFFFFF;\n",
              "    }\n",
              "  </style>\n",
              "\n",
              "      <script>\n",
              "        const buttonEl =\n",
              "          document.querySelector('#df-ca9f3f84-ab49-4231-b623-d7582f21907b button.colab-df-convert');\n",
              "        buttonEl.style.display =\n",
              "          google.colab.kernel.accessAllowed ? 'block' : 'none';\n",
              "\n",
              "        async function convertToInteractive(key) {\n",
              "          const element = document.querySelector('#df-ca9f3f84-ab49-4231-b623-d7582f21907b');\n",
              "          const dataTable =\n",
              "            await google.colab.kernel.invokeFunction('convertToInteractive',\n",
              "                                                     [key], {});\n",
              "          if (!dataTable) return;\n",
              "\n",
              "          const docLinkHtml = 'Like what you see? Visit the ' +\n",
              "            '<a target=\"_blank\" href=https://colab.research.google.com/notebooks/data_table.ipynb>data table notebook</a>'\n",
              "            + ' to learn more about interactive tables.';\n",
              "          element.innerHTML = '';\n",
              "          dataTable['output_type'] = 'display_data';\n",
              "          await google.colab.output.renderOutput(dataTable, element);\n",
              "          const docLink = document.createElement('div');\n",
              "          docLink.innerHTML = docLinkHtml;\n",
              "          element.appendChild(docLink);\n",
              "        }\n",
              "      </script>\n",
              "    </div>\n",
              "  </div>\n",
              "  "
            ],
            "text/plain": [
              "        Min_Hız  Max_Hız  Ort_Hız  Araç Sayısı  cluster_pred\n",
              "4             8       86       39           38             0\n",
              "6             9      139       73          142             1\n",
              "11            3       95       41           12             0\n",
              "12            1       75       23           25             0\n",
              "23           10       67       32           28             0\n",
              "...         ...      ...      ...          ...           ...\n",
              "121200       20      131       81           80             1\n",
              "121201        5       68       34           18             0\n",
              "121208        4       72       31           40             0\n",
              "121210       55      136       85           50             1\n",
              "121212        6      100       34           17             0\n",
              "\n",
              "[37253 rows x 5 columns]"
            ]
          },
          "metadata": {},
          "execution_count": 288
        }
      ]
    },
    {
      "cell_type": "code",
      "source": [
        "cluster.tail(50)"
      ],
      "metadata": {
        "colab": {
          "base_uri": "https://localhost:8080/",
          "height": 1000
        },
        "id": "SIUdRtQDMi1h",
        "outputId": "0cfc13bc-baa8-4d76-de38-635451ef9526"
      },
      "execution_count": null,
      "outputs": [
        {
          "output_type": "execute_result",
          "data": {
            "text/html": [
              "\n",
              "  <div id=\"df-68889de2-3831-4e4c-b151-e785a67457f8\">\n",
              "    <div class=\"colab-df-container\">\n",
              "      <div>\n",
              "<style scoped>\n",
              "    .dataframe tbody tr th:only-of-type {\n",
              "        vertical-align: middle;\n",
              "    }\n",
              "\n",
              "    .dataframe tbody tr th {\n",
              "        vertical-align: top;\n",
              "    }\n",
              "\n",
              "    .dataframe thead th {\n",
              "        text-align: right;\n",
              "    }\n",
              "</style>\n",
              "<table border=\"1\" class=\"dataframe\">\n",
              "  <thead>\n",
              "    <tr style=\"text-align: right;\">\n",
              "      <th></th>\n",
              "      <th>Min_Hız</th>\n",
              "      <th>Max_Hız</th>\n",
              "      <th>Ort_Hız</th>\n",
              "      <th>Araç Sayısı</th>\n",
              "      <th>cluster_pred</th>\n",
              "    </tr>\n",
              "  </thead>\n",
              "  <tbody>\n",
              "    <tr>\n",
              "      <th>121036</th>\n",
              "      <td>35</td>\n",
              "      <td>194</td>\n",
              "      <td>71</td>\n",
              "      <td>33</td>\n",
              "      <td>1</td>\n",
              "    </tr>\n",
              "    <tr>\n",
              "      <th>121041</th>\n",
              "      <td>62</td>\n",
              "      <td>141</td>\n",
              "      <td>92</td>\n",
              "      <td>15</td>\n",
              "      <td>1</td>\n",
              "    </tr>\n",
              "    <tr>\n",
              "      <th>121043</th>\n",
              "      <td>57</td>\n",
              "      <td>138</td>\n",
              "      <td>79</td>\n",
              "      <td>116</td>\n",
              "      <td>1</td>\n",
              "    </tr>\n",
              "    <tr>\n",
              "      <th>121045</th>\n",
              "      <td>48</td>\n",
              "      <td>128</td>\n",
              "      <td>87</td>\n",
              "      <td>15</td>\n",
              "      <td>1</td>\n",
              "    </tr>\n",
              "    <tr>\n",
              "      <th>121053</th>\n",
              "      <td>18</td>\n",
              "      <td>134</td>\n",
              "      <td>83</td>\n",
              "      <td>43</td>\n",
              "      <td>1</td>\n",
              "    </tr>\n",
              "    <tr>\n",
              "      <th>121054</th>\n",
              "      <td>2</td>\n",
              "      <td>57</td>\n",
              "      <td>23</td>\n",
              "      <td>17</td>\n",
              "      <td>0</td>\n",
              "    </tr>\n",
              "    <tr>\n",
              "      <th>121061</th>\n",
              "      <td>5</td>\n",
              "      <td>67</td>\n",
              "      <td>31</td>\n",
              "      <td>27</td>\n",
              "      <td>0</td>\n",
              "    </tr>\n",
              "    <tr>\n",
              "      <th>121064</th>\n",
              "      <td>4</td>\n",
              "      <td>105</td>\n",
              "      <td>54</td>\n",
              "      <td>91</td>\n",
              "      <td>0</td>\n",
              "    </tr>\n",
              "    <tr>\n",
              "      <th>121067</th>\n",
              "      <td>12</td>\n",
              "      <td>107</td>\n",
              "      <td>48</td>\n",
              "      <td>18</td>\n",
              "      <td>0</td>\n",
              "    </tr>\n",
              "    <tr>\n",
              "      <th>121076</th>\n",
              "      <td>21</td>\n",
              "      <td>86</td>\n",
              "      <td>49</td>\n",
              "      <td>20</td>\n",
              "      <td>0</td>\n",
              "    </tr>\n",
              "    <tr>\n",
              "      <th>121078</th>\n",
              "      <td>6</td>\n",
              "      <td>49</td>\n",
              "      <td>27</td>\n",
              "      <td>49</td>\n",
              "      <td>0</td>\n",
              "    </tr>\n",
              "    <tr>\n",
              "      <th>121080</th>\n",
              "      <td>2</td>\n",
              "      <td>119</td>\n",
              "      <td>54</td>\n",
              "      <td>134</td>\n",
              "      <td>1</td>\n",
              "    </tr>\n",
              "    <tr>\n",
              "      <th>121081</th>\n",
              "      <td>56</td>\n",
              "      <td>148</td>\n",
              "      <td>85</td>\n",
              "      <td>17</td>\n",
              "      <td>1</td>\n",
              "    </tr>\n",
              "    <tr>\n",
              "      <th>121083</th>\n",
              "      <td>3</td>\n",
              "      <td>128</td>\n",
              "      <td>53</td>\n",
              "      <td>127</td>\n",
              "      <td>1</td>\n",
              "    </tr>\n",
              "    <tr>\n",
              "      <th>121088</th>\n",
              "      <td>12</td>\n",
              "      <td>110</td>\n",
              "      <td>69</td>\n",
              "      <td>135</td>\n",
              "      <td>1</td>\n",
              "    </tr>\n",
              "    <tr>\n",
              "      <th>121090</th>\n",
              "      <td>2</td>\n",
              "      <td>135</td>\n",
              "      <td>61</td>\n",
              "      <td>56</td>\n",
              "      <td>1</td>\n",
              "    </tr>\n",
              "    <tr>\n",
              "      <th>121091</th>\n",
              "      <td>6</td>\n",
              "      <td>154</td>\n",
              "      <td>70</td>\n",
              "      <td>99</td>\n",
              "      <td>1</td>\n",
              "    </tr>\n",
              "    <tr>\n",
              "      <th>121106</th>\n",
              "      <td>14</td>\n",
              "      <td>152</td>\n",
              "      <td>93</td>\n",
              "      <td>48</td>\n",
              "      <td>1</td>\n",
              "    </tr>\n",
              "    <tr>\n",
              "      <th>121107</th>\n",
              "      <td>69</td>\n",
              "      <td>193</td>\n",
              "      <td>95</td>\n",
              "      <td>45</td>\n",
              "      <td>1</td>\n",
              "    </tr>\n",
              "    <tr>\n",
              "      <th>121117</th>\n",
              "      <td>61</td>\n",
              "      <td>190</td>\n",
              "      <td>85</td>\n",
              "      <td>59</td>\n",
              "      <td>1</td>\n",
              "    </tr>\n",
              "    <tr>\n",
              "      <th>121121</th>\n",
              "      <td>39</td>\n",
              "      <td>114</td>\n",
              "      <td>74</td>\n",
              "      <td>16</td>\n",
              "      <td>1</td>\n",
              "    </tr>\n",
              "    <tr>\n",
              "      <th>121124</th>\n",
              "      <td>68</td>\n",
              "      <td>189</td>\n",
              "      <td>112</td>\n",
              "      <td>11</td>\n",
              "      <td>1</td>\n",
              "    </tr>\n",
              "    <tr>\n",
              "      <th>121126</th>\n",
              "      <td>3</td>\n",
              "      <td>101</td>\n",
              "      <td>59</td>\n",
              "      <td>90</td>\n",
              "      <td>0</td>\n",
              "    </tr>\n",
              "    <tr>\n",
              "      <th>121129</th>\n",
              "      <td>29</td>\n",
              "      <td>143</td>\n",
              "      <td>76</td>\n",
              "      <td>103</td>\n",
              "      <td>1</td>\n",
              "    </tr>\n",
              "    <tr>\n",
              "      <th>121137</th>\n",
              "      <td>52</td>\n",
              "      <td>94</td>\n",
              "      <td>77</td>\n",
              "      <td>33</td>\n",
              "      <td>1</td>\n",
              "    </tr>\n",
              "    <tr>\n",
              "      <th>121139</th>\n",
              "      <td>48</td>\n",
              "      <td>129</td>\n",
              "      <td>80</td>\n",
              "      <td>17</td>\n",
              "      <td>1</td>\n",
              "    </tr>\n",
              "    <tr>\n",
              "      <th>121148</th>\n",
              "      <td>10</td>\n",
              "      <td>55</td>\n",
              "      <td>31</td>\n",
              "      <td>11</td>\n",
              "      <td>0</td>\n",
              "    </tr>\n",
              "    <tr>\n",
              "      <th>121151</th>\n",
              "      <td>6</td>\n",
              "      <td>101</td>\n",
              "      <td>50</td>\n",
              "      <td>22</td>\n",
              "      <td>0</td>\n",
              "    </tr>\n",
              "    <tr>\n",
              "      <th>121158</th>\n",
              "      <td>63</td>\n",
              "      <td>174</td>\n",
              "      <td>84</td>\n",
              "      <td>79</td>\n",
              "      <td>1</td>\n",
              "    </tr>\n",
              "    <tr>\n",
              "      <th>121167</th>\n",
              "      <td>29</td>\n",
              "      <td>123</td>\n",
              "      <td>76</td>\n",
              "      <td>26</td>\n",
              "      <td>1</td>\n",
              "    </tr>\n",
              "    <tr>\n",
              "      <th>121169</th>\n",
              "      <td>7</td>\n",
              "      <td>75</td>\n",
              "      <td>27</td>\n",
              "      <td>23</td>\n",
              "      <td>0</td>\n",
              "    </tr>\n",
              "    <tr>\n",
              "      <th>121172</th>\n",
              "      <td>33</td>\n",
              "      <td>136</td>\n",
              "      <td>74</td>\n",
              "      <td>12</td>\n",
              "      <td>1</td>\n",
              "    </tr>\n",
              "    <tr>\n",
              "      <th>121175</th>\n",
              "      <td>45</td>\n",
              "      <td>133</td>\n",
              "      <td>78</td>\n",
              "      <td>45</td>\n",
              "      <td>1</td>\n",
              "    </tr>\n",
              "    <tr>\n",
              "      <th>121176</th>\n",
              "      <td>6</td>\n",
              "      <td>102</td>\n",
              "      <td>40</td>\n",
              "      <td>39</td>\n",
              "      <td>0</td>\n",
              "    </tr>\n",
              "    <tr>\n",
              "      <th>121177</th>\n",
              "      <td>61</td>\n",
              "      <td>141</td>\n",
              "      <td>94</td>\n",
              "      <td>69</td>\n",
              "      <td>1</td>\n",
              "    </tr>\n",
              "    <tr>\n",
              "      <th>121181</th>\n",
              "      <td>3</td>\n",
              "      <td>119</td>\n",
              "      <td>58</td>\n",
              "      <td>36</td>\n",
              "      <td>0</td>\n",
              "    </tr>\n",
              "    <tr>\n",
              "      <th>121183</th>\n",
              "      <td>15</td>\n",
              "      <td>81</td>\n",
              "      <td>45</td>\n",
              "      <td>18</td>\n",
              "      <td>0</td>\n",
              "    </tr>\n",
              "    <tr>\n",
              "      <th>121184</th>\n",
              "      <td>9</td>\n",
              "      <td>63</td>\n",
              "      <td>34</td>\n",
              "      <td>13</td>\n",
              "      <td>0</td>\n",
              "    </tr>\n",
              "    <tr>\n",
              "      <th>121185</th>\n",
              "      <td>6</td>\n",
              "      <td>64</td>\n",
              "      <td>28</td>\n",
              "      <td>40</td>\n",
              "      <td>0</td>\n",
              "    </tr>\n",
              "    <tr>\n",
              "      <th>121189</th>\n",
              "      <td>2</td>\n",
              "      <td>76</td>\n",
              "      <td>31</td>\n",
              "      <td>55</td>\n",
              "      <td>0</td>\n",
              "    </tr>\n",
              "    <tr>\n",
              "      <th>121190</th>\n",
              "      <td>4</td>\n",
              "      <td>71</td>\n",
              "      <td>31</td>\n",
              "      <td>21</td>\n",
              "      <td>0</td>\n",
              "    </tr>\n",
              "    <tr>\n",
              "      <th>121192</th>\n",
              "      <td>8</td>\n",
              "      <td>65</td>\n",
              "      <td>38</td>\n",
              "      <td>17</td>\n",
              "      <td>0</td>\n",
              "    </tr>\n",
              "    <tr>\n",
              "      <th>121193</th>\n",
              "      <td>7</td>\n",
              "      <td>151</td>\n",
              "      <td>62</td>\n",
              "      <td>52</td>\n",
              "      <td>1</td>\n",
              "    </tr>\n",
              "    <tr>\n",
              "      <th>121198</th>\n",
              "      <td>37</td>\n",
              "      <td>141</td>\n",
              "      <td>81</td>\n",
              "      <td>59</td>\n",
              "      <td>1</td>\n",
              "    </tr>\n",
              "    <tr>\n",
              "      <th>121199</th>\n",
              "      <td>36</td>\n",
              "      <td>151</td>\n",
              "      <td>85</td>\n",
              "      <td>148</td>\n",
              "      <td>1</td>\n",
              "    </tr>\n",
              "    <tr>\n",
              "      <th>121200</th>\n",
              "      <td>20</td>\n",
              "      <td>131</td>\n",
              "      <td>81</td>\n",
              "      <td>80</td>\n",
              "      <td>1</td>\n",
              "    </tr>\n",
              "    <tr>\n",
              "      <th>121201</th>\n",
              "      <td>5</td>\n",
              "      <td>68</td>\n",
              "      <td>34</td>\n",
              "      <td>18</td>\n",
              "      <td>0</td>\n",
              "    </tr>\n",
              "    <tr>\n",
              "      <th>121208</th>\n",
              "      <td>4</td>\n",
              "      <td>72</td>\n",
              "      <td>31</td>\n",
              "      <td>40</td>\n",
              "      <td>0</td>\n",
              "    </tr>\n",
              "    <tr>\n",
              "      <th>121210</th>\n",
              "      <td>55</td>\n",
              "      <td>136</td>\n",
              "      <td>85</td>\n",
              "      <td>50</td>\n",
              "      <td>1</td>\n",
              "    </tr>\n",
              "    <tr>\n",
              "      <th>121212</th>\n",
              "      <td>6</td>\n",
              "      <td>100</td>\n",
              "      <td>34</td>\n",
              "      <td>17</td>\n",
              "      <td>0</td>\n",
              "    </tr>\n",
              "  </tbody>\n",
              "</table>\n",
              "</div>\n",
              "      <button class=\"colab-df-convert\" onclick=\"convertToInteractive('df-68889de2-3831-4e4c-b151-e785a67457f8')\"\n",
              "              title=\"Convert this dataframe to an interactive table.\"\n",
              "              style=\"display:none;\">\n",
              "        \n",
              "  <svg xmlns=\"http://www.w3.org/2000/svg\" height=\"24px\"viewBox=\"0 0 24 24\"\n",
              "       width=\"24px\">\n",
              "    <path d=\"M0 0h24v24H0V0z\" fill=\"none\"/>\n",
              "    <path d=\"M18.56 5.44l.94 2.06.94-2.06 2.06-.94-2.06-.94-.94-2.06-.94 2.06-2.06.94zm-11 1L8.5 8.5l.94-2.06 2.06-.94-2.06-.94L8.5 2.5l-.94 2.06-2.06.94zm10 10l.94 2.06.94-2.06 2.06-.94-2.06-.94-.94-2.06-.94 2.06-2.06.94z\"/><path d=\"M17.41 7.96l-1.37-1.37c-.4-.4-.92-.59-1.43-.59-.52 0-1.04.2-1.43.59L10.3 9.45l-7.72 7.72c-.78.78-.78 2.05 0 2.83L4 21.41c.39.39.9.59 1.41.59.51 0 1.02-.2 1.41-.59l7.78-7.78 2.81-2.81c.8-.78.8-2.07 0-2.86zM5.41 20L4 18.59l7.72-7.72 1.47 1.35L5.41 20z\"/>\n",
              "  </svg>\n",
              "      </button>\n",
              "      \n",
              "  <style>\n",
              "    .colab-df-container {\n",
              "      display:flex;\n",
              "      flex-wrap:wrap;\n",
              "      gap: 12px;\n",
              "    }\n",
              "\n",
              "    .colab-df-convert {\n",
              "      background-color: #E8F0FE;\n",
              "      border: none;\n",
              "      border-radius: 50%;\n",
              "      cursor: pointer;\n",
              "      display: none;\n",
              "      fill: #1967D2;\n",
              "      height: 32px;\n",
              "      padding: 0 0 0 0;\n",
              "      width: 32px;\n",
              "    }\n",
              "\n",
              "    .colab-df-convert:hover {\n",
              "      background-color: #E2EBFA;\n",
              "      box-shadow: 0px 1px 2px rgba(60, 64, 67, 0.3), 0px 1px 3px 1px rgba(60, 64, 67, 0.15);\n",
              "      fill: #174EA6;\n",
              "    }\n",
              "\n",
              "    [theme=dark] .colab-df-convert {\n",
              "      background-color: #3B4455;\n",
              "      fill: #D2E3FC;\n",
              "    }\n",
              "\n",
              "    [theme=dark] .colab-df-convert:hover {\n",
              "      background-color: #434B5C;\n",
              "      box-shadow: 0px 1px 3px 1px rgba(0, 0, 0, 0.15);\n",
              "      filter: drop-shadow(0px 1px 2px rgba(0, 0, 0, 0.3));\n",
              "      fill: #FFFFFF;\n",
              "    }\n",
              "  </style>\n",
              "\n",
              "      <script>\n",
              "        const buttonEl =\n",
              "          document.querySelector('#df-68889de2-3831-4e4c-b151-e785a67457f8 button.colab-df-convert');\n",
              "        buttonEl.style.display =\n",
              "          google.colab.kernel.accessAllowed ? 'block' : 'none';\n",
              "\n",
              "        async function convertToInteractive(key) {\n",
              "          const element = document.querySelector('#df-68889de2-3831-4e4c-b151-e785a67457f8');\n",
              "          const dataTable =\n",
              "            await google.colab.kernel.invokeFunction('convertToInteractive',\n",
              "                                                     [key], {});\n",
              "          if (!dataTable) return;\n",
              "\n",
              "          const docLinkHtml = 'Like what you see? Visit the ' +\n",
              "            '<a target=\"_blank\" href=https://colab.research.google.com/notebooks/data_table.ipynb>data table notebook</a>'\n",
              "            + ' to learn more about interactive tables.';\n",
              "          element.innerHTML = '';\n",
              "          dataTable['output_type'] = 'display_data';\n",
              "          await google.colab.output.renderOutput(dataTable, element);\n",
              "          const docLink = document.createElement('div');\n",
              "          docLink.innerHTML = docLinkHtml;\n",
              "          element.appendChild(docLink);\n",
              "        }\n",
              "      </script>\n",
              "    </div>\n",
              "  </div>\n",
              "  "
            ],
            "text/plain": [
              "        Min_Hız  Max_Hız  Ort_Hız  Araç Sayısı  cluster_pred\n",
              "121036       35      194       71           33             1\n",
              "121041       62      141       92           15             1\n",
              "121043       57      138       79          116             1\n",
              "121045       48      128       87           15             1\n",
              "121053       18      134       83           43             1\n",
              "121054        2       57       23           17             0\n",
              "121061        5       67       31           27             0\n",
              "121064        4      105       54           91             0\n",
              "121067       12      107       48           18             0\n",
              "121076       21       86       49           20             0\n",
              "121078        6       49       27           49             0\n",
              "121080        2      119       54          134             1\n",
              "121081       56      148       85           17             1\n",
              "121083        3      128       53          127             1\n",
              "121088       12      110       69          135             1\n",
              "121090        2      135       61           56             1\n",
              "121091        6      154       70           99             1\n",
              "121106       14      152       93           48             1\n",
              "121107       69      193       95           45             1\n",
              "121117       61      190       85           59             1\n",
              "121121       39      114       74           16             1\n",
              "121124       68      189      112           11             1\n",
              "121126        3      101       59           90             0\n",
              "121129       29      143       76          103             1\n",
              "121137       52       94       77           33             1\n",
              "121139       48      129       80           17             1\n",
              "121148       10       55       31           11             0\n",
              "121151        6      101       50           22             0\n",
              "121158       63      174       84           79             1\n",
              "121167       29      123       76           26             1\n",
              "121169        7       75       27           23             0\n",
              "121172       33      136       74           12             1\n",
              "121175       45      133       78           45             1\n",
              "121176        6      102       40           39             0\n",
              "121177       61      141       94           69             1\n",
              "121181        3      119       58           36             0\n",
              "121183       15       81       45           18             0\n",
              "121184        9       63       34           13             0\n",
              "121185        6       64       28           40             0\n",
              "121189        2       76       31           55             0\n",
              "121190        4       71       31           21             0\n",
              "121192        8       65       38           17             0\n",
              "121193        7      151       62           52             1\n",
              "121198       37      141       81           59             1\n",
              "121199       36      151       85          148             1\n",
              "121200       20      131       81           80             1\n",
              "121201        5       68       34           18             0\n",
              "121208        4       72       31           40             0\n",
              "121210       55      136       85           50             1\n",
              "121212        6      100       34           17             0"
            ]
          },
          "metadata": {},
          "execution_count": 289
        }
      ]
    },
    {
      "cell_type": "markdown",
      "source": [
        "GÖZLEMLER SONUCU\n",
        "\n",
        "1--> AZ YOĞUNLUK (mor)\n",
        "\n",
        "\n",
        "\n",
        "\n",
        "\n"
      ],
      "metadata": {
        "id": "ZMdigI30ePid"
      }
    },
    {
      "cell_type": "markdown",
      "source": [
        "0--> ÇOK YOĞUNLUK (kırmızı)"
      ],
      "metadata": {
        "id": "Z3JlzXRrlGVp"
      }
    },
    {
      "cell_type": "code",
      "source": [
        "plt.scatter(df[\"Max_Hız\"],cluster[\"Araç Sayısı\"],c=cluster[\"cluster_pred\"],cmap=\"rainbow\")\n",
        "plt.title(\"TRAFİK YOĞUNLUK ANALİZİ\")\n",
        "plt.ylabel(\"Araç Sayısı\")\n",
        "plt.xlabel(\"Maksimum Hız\")\n",
        "plt.show"
      ],
      "metadata": {
        "colab": {
          "base_uri": "https://localhost:8080/",
          "height": 312
        },
        "id": "INkduN0WMi31",
        "outputId": "22d57b08-a39f-4f16-dd47-3eccee1a297d"
      },
      "execution_count": null,
      "outputs": [
        {
          "output_type": "execute_result",
          "data": {
            "text/plain": [
              "<function matplotlib.pyplot.show>"
            ]
          },
          "metadata": {},
          "execution_count": 290
        },
        {
          "output_type": "display_data",
          "data": {
            "image/png": "[encoded data removed]",
            "text/plain": [
              "<Figure size 432x288 with 1 Axes>"
            ]
          },
          "metadata": {
            "needs_background": "light"
          }
        }
      ]
    },
    {
      "cell_type": "code",
      "source": [
        "plt.scatter(cluster[\"Min_Hız\"],cluster[\"Araç Sayısı\"],c=cluster[\"cluster_pred\"],cmap=\"rainbow\")\n",
        "plt.title(\"TRAFİK YOĞUNLUK ANALİZİ\")\n",
        "plt.ylabel(\"Araç Sayısı\")\n",
        "plt.xlabel(\"Minimum Hız\")\n",
        "plt.show"
      ],
      "metadata": {
        "colab": {
          "base_uri": "https://localhost:8080/",
          "height": 312
        },
        "id": "xeRoPHJdVFQk",
        "outputId": "c08e3db5-640b-4841-b911-f926f0a487e5"
      },
      "execution_count": null,
      "outputs": [
        {
          "output_type": "execute_result",
          "data": {
            "text/plain": [
              "<function matplotlib.pyplot.show>"
            ]
          },
          "metadata": {},
          "execution_count": 291
        },
        {
          "output_type": "display_data",
          "data": {
            "image/png": "[encoded data removed]",
            "text/plain": [
              "<Figure size 432x288 with 1 Axes>"
            ]
          },
          "metadata": {
            "needs_background": "light"
          }
        }
      ]
    },
    {
      "cell_type": "code",
      "source": [
        "plt.scatter(cluster[\"Ort_Hız\"],cluster[\"Araç Sayısı\"],c=cluster[\"cluster_pred\"],cmap=\"rainbow\")\n",
        "plt.title(\"TRAFİK YOĞUNLUK ANALİZİ\")\n",
        "plt.ylabel(\"Araç Sayısı\")\n",
        "plt.xlabel(\"Ortalama Hız\")\n",
        "plt.show"
      ],
      "metadata": {
        "colab": {
          "base_uri": "https://localhost:8080/",
          "height": 312
        },
        "id": "5Nk7QvtkVFUf",
        "outputId": "e3cd7762-7d56-4d22-9620-16db3345b992"
      },
      "execution_count": null,
      "outputs": [
        {
          "output_type": "execute_result",
          "data": {
            "text/plain": [
              "<function matplotlib.pyplot.show>"
            ]
          },
          "metadata": {},
          "execution_count": 292
        },
        {
          "output_type": "display_data",
          "data": {
            "image/png": "[encoded data removed]",
            "text/plain": [
              "<Figure size 432x288 with 1 Axes>"
            ]
          },
          "metadata": {
            "needs_background": "light"
          }
        }
      ]
    }
  ],
  "metadata": {
    "colab": {
      "provenance": [],
      "include_colab_link": true
    },
    "kernelspec": {
      "display_name": "Python 3",
      "name": "python3"
    },
    "language_info": {
      "name": "python"
    }
  },
  "nbformat": 4,
  "nbformat_minor": 0
}